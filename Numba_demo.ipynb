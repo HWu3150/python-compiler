{
  "nbformat": 4,
  "nbformat_minor": 0,
  "metadata": {
    "colab": {
      "provenance": [],
      "authorship_tag": "ABX9TyPFTpjYPxrUIZn5W2erPuF2",
      "include_colab_link": true
    },
    "kernelspec": {
      "name": "python3",
      "display_name": "Python 3"
    },
    "language_info": {
      "name": "python"
    }
  },
  "cells": [
    {
      "cell_type": "markdown",
      "metadata": {
        "id": "view-in-github",
        "colab_type": "text"
      },
      "source": [
        "<a href=\"https://colab.research.google.com/github/HWu3150/python-compiler/blob/presentation_1/Numba_demo.ipynb\" target=\"_parent\"><img src=\"https://colab.research.google.com/assets/colab-badge.svg\" alt=\"Open In Colab\"/></a>"
      ]
    },
    {
      "cell_type": "code",
      "execution_count": null,
      "metadata": {
        "id": "e1Prypf3s5Qs"
      },
      "outputs": [],
      "source": [
        "import numba\n",
        "from numba import njit, jit, vectorize, prange\n",
        "from numba.core.compiler import CompilerBase, DefaultPassBuilder\n",
        "from numba.core.compiler_machinery import FunctionPass, register_pass\n",
        "from numba.core.untyped_passes import IRProcessing, ReconstructSSA\n",
        "from numba.core import ir, ir_utils, config, errors\n",
        "\n",
        "import ast\n",
        "import inspect\n",
        "import re\n",
        "import time\n",
        "from IPython.display import display\n",
        "from graphviz import Digraph\n",
        "\n",
        "import numpy as np"
      ]
    },
    {
      "cell_type": "markdown",
      "source": [
        "# **Demo: performance of using Numba vs. not using it**"
      ],
      "metadata": {
        "id": "E0AW0Ld-hGYc"
      }
    },
    {
      "cell_type": "code",
      "source": [
        "@njit\n",
        "def sum_of_squares(arr):\n",
        "    ss = 0.0\n",
        "    for i in arr:\n",
        "        ss += i ** 2\n",
        "    return ss\n",
        "\n",
        "arr = np.random.rand(10**4)\n",
        "\n",
        "start = time.time()\n",
        "result_python = sum(i ** 2 for i in arr)\n",
        "end = time.time()\n",
        "print(f\"Without Numba: Result={result_python}, Time={end - start:.6f} seconds\")\n",
        "\n",
        "start = time.time()\n",
        "result_numba = sum_of_squares(arr)\n",
        "end = time.time()\n",
        "print(f\"With Numba: Result={result_numba}, Time={end - start:.6f} seconds\")\n",
        "\n",
        "start = time.time()\n",
        "result_numba = sum_of_squares(arr)\n",
        "end = time.time()\n",
        "print(f\"With Numba (second run): Result={result_numba}, Time={end - start:.6f} seconds\")"
      ],
      "metadata": {
        "colab": {
          "base_uri": "https://localhost:8080/"
        },
        "id": "OIMwx2cLfc9W",
        "outputId": "ad5b6aed-dcef-4e83-a8f6-10d1c9ef9a5b"
      },
      "execution_count": null,
      "outputs": [
        {
          "output_type": "stream",
          "name": "stdout",
          "text": [
            "Without Numba: Result=3322.899366711567, Time=0.005284 seconds\n",
            "With Numba: Result=3322.899366711567, Time=1.634676 seconds\n",
            "With Numba (second run): Result=3322.899366711567, Time=0.000081 seconds\n"
          ]
        }
      ]
    },
    {
      "cell_type": "markdown",
      "source": [
        "#**Demo: nopython vs object mode vs fallback mode**"
      ],
      "metadata": {
        "id": "uHliwmNug62z"
      }
    },
    {
      "cell_type": "code",
      "source": [
        "class Person:\n",
        "    def __init__(self, name, age):\n",
        "        self.name = name\n",
        "        self.age = age\n",
        "\n",
        "    def future_age(self, years):\n",
        "        return self.age + years"
      ],
      "metadata": {
        "id": "iMyx7K6Ta9jE"
      },
      "execution_count": null,
      "outputs": []
    },
    {
      "cell_type": "code",
      "source": [
        "@njit\n",
        "def calculate_future_age():\n",
        "    person = Person(\"Jake\", 30)\n",
        "    return person.future_age(10)\n",
        "\n",
        "print(calculate_future_age()) # an error is expected"
      ],
      "metadata": {
        "colab": {
          "base_uri": "https://localhost:8080/",
          "height": 426
        },
        "id": "-3RcxtZL2N-h",
        "outputId": "1b625375-8951-45f5-b1dc-9a04a98740cd"
      },
      "execution_count": null,
      "outputs": [
        {
          "output_type": "error",
          "ename": "TypingError",
          "evalue": "Failed in nopython mode pipeline (step: nopython frontend)\nUntyped global name 'Person': Cannot determine Numba type of <class 'type'>\n\nFile \"<ipython-input-5-41c921f84db8>\", line 3:\ndef calculate_future_age():\n    person = Person(\"Jake\", 30)\n    ^\n",
          "traceback": [
            "\u001b[0;31m---------------------------------------------------------------------------\u001b[0m",
            "\u001b[0;31mTypingError\u001b[0m                               Traceback (most recent call last)",
            "\u001b[0;32m<ipython-input-5-41c921f84db8>\u001b[0m in \u001b[0;36m<cell line: 6>\u001b[0;34m()\u001b[0m\n\u001b[1;32m      4\u001b[0m     \u001b[0;32mreturn\u001b[0m \u001b[0mperson\u001b[0m\u001b[0;34m.\u001b[0m\u001b[0mfuture_age\u001b[0m\u001b[0;34m(\u001b[0m\u001b[0;36m10\u001b[0m\u001b[0;34m)\u001b[0m\u001b[0;34m\u001b[0m\u001b[0;34m\u001b[0m\u001b[0m\n\u001b[1;32m      5\u001b[0m \u001b[0;34m\u001b[0m\u001b[0m\n\u001b[0;32m----> 6\u001b[0;31m \u001b[0mprint\u001b[0m\u001b[0;34m(\u001b[0m\u001b[0mcalculate_future_age\u001b[0m\u001b[0;34m(\u001b[0m\u001b[0;34m)\u001b[0m\u001b[0;34m)\u001b[0m\u001b[0;34m\u001b[0m\u001b[0;34m\u001b[0m\u001b[0m\n\u001b[0m",
            "\u001b[0;32m/usr/local/lib/python3.10/dist-packages/numba/core/dispatcher.py\u001b[0m in \u001b[0;36m_compile_for_args\u001b[0;34m(self, *args, **kws)\u001b[0m\n\u001b[1;32m    421\u001b[0m                 \u001b[0me\u001b[0m\u001b[0;34m.\u001b[0m\u001b[0mpatch_message\u001b[0m\u001b[0;34m(\u001b[0m\u001b[0mmsg\u001b[0m\u001b[0;34m)\u001b[0m\u001b[0;34m\u001b[0m\u001b[0;34m\u001b[0m\u001b[0m\n\u001b[1;32m    422\u001b[0m \u001b[0;34m\u001b[0m\u001b[0m\n\u001b[0;32m--> 423\u001b[0;31m             \u001b[0merror_rewrite\u001b[0m\u001b[0;34m(\u001b[0m\u001b[0me\u001b[0m\u001b[0;34m,\u001b[0m \u001b[0;34m'typing'\u001b[0m\u001b[0;34m)\u001b[0m\u001b[0;34m\u001b[0m\u001b[0;34m\u001b[0m\u001b[0m\n\u001b[0m\u001b[1;32m    424\u001b[0m         \u001b[0;32mexcept\u001b[0m \u001b[0merrors\u001b[0m\u001b[0;34m.\u001b[0m\u001b[0mUnsupportedError\u001b[0m \u001b[0;32mas\u001b[0m \u001b[0me\u001b[0m\u001b[0;34m:\u001b[0m\u001b[0;34m\u001b[0m\u001b[0;34m\u001b[0m\u001b[0m\n\u001b[1;32m    425\u001b[0m             \u001b[0;31m# Something unsupported is present in the user code, add help info\u001b[0m\u001b[0;34m\u001b[0m\u001b[0;34m\u001b[0m\u001b[0m\n",
            "\u001b[0;32m/usr/local/lib/python3.10/dist-packages/numba/core/dispatcher.py\u001b[0m in \u001b[0;36merror_rewrite\u001b[0;34m(e, issue_type)\u001b[0m\n\u001b[1;32m    362\u001b[0m                 \u001b[0;32mraise\u001b[0m \u001b[0me\u001b[0m\u001b[0;34m\u001b[0m\u001b[0;34m\u001b[0m\u001b[0m\n\u001b[1;32m    363\u001b[0m             \u001b[0;32melse\u001b[0m\u001b[0;34m:\u001b[0m\u001b[0;34m\u001b[0m\u001b[0;34m\u001b[0m\u001b[0m\n\u001b[0;32m--> 364\u001b[0;31m                 \u001b[0;32mraise\u001b[0m \u001b[0me\u001b[0m\u001b[0;34m.\u001b[0m\u001b[0mwith_traceback\u001b[0m\u001b[0;34m(\u001b[0m\u001b[0;32mNone\u001b[0m\u001b[0;34m)\u001b[0m\u001b[0;34m\u001b[0m\u001b[0;34m\u001b[0m\u001b[0m\n\u001b[0m\u001b[1;32m    365\u001b[0m \u001b[0;34m\u001b[0m\u001b[0m\n\u001b[1;32m    366\u001b[0m         \u001b[0margtypes\u001b[0m \u001b[0;34m=\u001b[0m \u001b[0;34m[\u001b[0m\u001b[0;34m]\u001b[0m\u001b[0;34m\u001b[0m\u001b[0;34m\u001b[0m\u001b[0m\n",
            "\u001b[0;31mTypingError\u001b[0m: Failed in nopython mode pipeline (step: nopython frontend)\nUntyped global name 'Person': Cannot determine Numba type of <class 'type'>\n\nFile \"<ipython-input-5-41c921f84db8>\", line 3:\ndef calculate_future_age():\n    person = Person(\"Jake\", 30)\n    ^\n"
          ]
        }
      ]
    },
    {
      "cell_type": "code",
      "source": [
        "@jit(forceobj=True)\n",
        "def calculate_future_age2():\n",
        "    person = Person(\"Jake\", 30)\n",
        "    return person.future_age(10)\n",
        "\n",
        "print(calculate_future_age2())"
      ],
      "metadata": {
        "colab": {
          "base_uri": "https://localhost:8080/"
        },
        "id": "oxmhl2tJZeFh",
        "outputId": "efdcdac4-7744-4b95-9a25-8073ef8bbe5e"
      },
      "execution_count": null,
      "outputs": [
        {
          "output_type": "stream",
          "name": "stdout",
          "text": [
            "40\n"
          ]
        }
      ]
    },
    {
      "cell_type": "markdown",
      "source": [
        "# **Demo: Function Vectorization**"
      ],
      "metadata": {
        "id": "SB-uuUgTipm8"
      }
    },
    {
      "cell_type": "code",
      "source": [
        "@vectorize([\"float64(float64, float64)\"], target=\"cpu\")\n",
        "def square_sum(x, y):\n",
        "  return x**2 + y**2\n",
        "\n",
        "arr1 = np.random.rand(10**7)\n",
        "arr2 = np.random.rand(10**7)\n",
        "\n",
        "start = time.time()\n",
        "result_numpy = arr1**2 + arr2**2\n",
        "end = time.time()\n",
        "print(f\"Without Numba: Time={end - start:.6f} seconds\")\n",
        "\n",
        "start = time.time()\n",
        "result_numba = square_sum(arr1, arr2)\n",
        "end = time.time()\n",
        "print(f\"With Numba Vectorize: Time={end - start:.6f} seconds\")\n",
        "\n",
        "start = time.time()\n",
        "result_numba = square_sum(arr1, arr2)\n",
        "end = time.time()\n",
        "print(f\"With Numba Vectorize (second run): Time={end - start:.6f} seconds\")\n",
        "\n",
        "print(f\"Check results: {np.allclose(result_numpy, result_numba)}\")"
      ],
      "metadata": {
        "colab": {
          "base_uri": "https://localhost:8080/"
        },
        "id": "MsreF6KNipSy",
        "outputId": "06f7e5c7-6b55-4ac5-8d3e-032be5364c0b"
      },
      "execution_count": null,
      "outputs": [
        {
          "output_type": "stream",
          "name": "stdout",
          "text": [
            "Without Numba: Time=0.090259 seconds\n",
            "With Numba Vectorize: Time=0.031538 seconds\n",
            "With Numba Vectorize (second run): Time=0.042275 seconds\n",
            "Check results: True\n"
          ]
        }
      ]
    },
    {
      "cell_type": "markdown",
      "source": [
        "# **Demo: Create customized compiler pass and customized compiler**"
      ],
      "metadata": {
        "id": "ZKtKWIqihYID"
      }
    },
    {
      "cell_type": "code",
      "source": [
        "@register_pass(mutates_CFG=False, analysis_only=True)\n",
        "class Test(FunctionPass):\n",
        "  _name = \"Test\"\n",
        "\n",
        "  def __init__(self):\n",
        "    FunctionPass.__init__(self)\n",
        "\n",
        "  def run_pass(self, state):\n",
        "    return False\n",
        "\n",
        "class TestCompiler(CompilerBase):\n",
        "\n",
        "  def define_pipelines(self):\n",
        "    pm = DefaultPassBuilder.define_nopython_pipeline(self.state)\n",
        "    pm.add_pass_after(Test, IRProcessing)\n",
        "    pm.finalize()\n",
        "\n",
        "    print(\"Pipeline passes in PassManager:\")\n",
        "    for i, (pass_cls, _) in enumerate(pm.passes):\n",
        "        print(f\"{i + 1}. {pass_cls._name}\")\n",
        "    return [pm]"
      ],
      "metadata": {
        "id": "4fik0QsKtUhk"
      },
      "execution_count": null,
      "outputs": []
    },
    {
      "cell_type": "code",
      "source": [
        "@njit(pipeline_class=TestCompiler)\n",
        "def test():\n",
        "  x = 5\n",
        "  a = 10\n",
        "  if x < 10:\n",
        "    a = a * 2\n",
        "  else:\n",
        "    a = a / 2\n",
        "  return a"
      ],
      "metadata": {
        "id": "--brTA1Jt889"
      },
      "execution_count": null,
      "outputs": []
    },
    {
      "cell_type": "code",
      "source": [
        "x = test()"
      ],
      "metadata": {
        "colab": {
          "base_uri": "https://localhost:8080/"
        },
        "id": "t6U1Bg4gu0ua",
        "outputId": "c701f2bc-df2a-4de0-dbb5-cdaf4136ca96"
      },
      "execution_count": null,
      "outputs": [
        {
          "output_type": "stream",
          "name": "stdout",
          "text": [
            "Pipeline passes in PassManager:\n",
            "1. translate_bytecode\n",
            "2. fixup_args\n",
            "3. ir_processing\n",
            "4. Test\n",
            "5. with_lifting\n",
            "6. inline_closure_likes\n",
            "7. rewrite_semantic_constants\n",
            "8. dead_branch_prune\n",
            "9. generic_rewrites\n",
            "10. Rewrite dynamic raises\n",
            "11. make_function_op_code_to_jit_function\n",
            "12. inline_inlinables\n",
            "13. dead_branch_prune\n",
            "14. find_literally\n",
            "15. literal_unroll\n",
            "16. reconstruct_ssa\n",
            "17. LiteralPropagation\n",
            "18. nopython_type_inference\n",
            "19. strip_phis\n",
            "20. inline_overloads\n",
            "21. nopython_rewrites\n",
            "22. nopython_supported_feature_validation\n",
            "23. ir_legalization\n",
            "24. annotate_types\n",
            "25. native_lowering\n",
            "26. nopython_backend\n",
            "27. dump_parfor_diagnostics\n"
          ]
        }
      ]
    },
    {
      "cell_type": "code",
      "source": [
        "def get_rhs_vars(stmt):\n",
        "    var_list = []\n",
        "    if isinstance(stmt, ir.Assign):\n",
        "        if not isinstance(stmt.value, ir.Const):\n",
        "            if isinstance(stmt.value, ir.Expr):\n",
        "                # get list of vars from the Expr\n",
        "                expr_vars = ir.Expr.list_vars(stmt.value)\n",
        "                for var in expr_vars:\n",
        "                    var_list.append(var.name)\n",
        "            else:\n",
        "                var_list.append(stmt.value.name)\n",
        "    elif isinstance(stmt, ir.Return):\n",
        "        var_list.append(stmt.value.name)\n",
        "    elif isinstance(stmt, ir.Expr):\n",
        "        var_list.append(ir.Expr.list_vars(stmt))\n",
        "    else:\n",
        "        raise ValueError(\"Unexpected statement type: {}\".format(type(stmt)))\n",
        "    return var_list\n",
        "\n",
        "\n",
        "def get_lhs_vars(stmt):\n",
        "    if isinstance(stmt, ir.Assign):\n",
        "        return stmt.target\n",
        "    elif isinstance(stmt, ir.Return):\n",
        "        return stmt.value\n",
        "    elif isinstance(stmt, ir.Expr):\n",
        "        return stmt\n",
        "    else:\n",
        "        raise ValueError(\"Unexpected statement type: {}\".format(type(stmt)))\n",
        "\n",
        "\n",
        "@register_pass(mutates_CFG=False, analysis_only=False)\n",
        "class PrintAssignments(FunctionPass):\n",
        "    _name = \"dead_code_elimination1\"\n",
        "\n",
        "    def __init__(self):\n",
        "        FunctionPass.__init__(self)\n",
        "\n",
        "    def run_pass(self, state):\n",
        "        # state contains the FunctionIR to be mutated,\n",
        "        mutate = True\n",
        "        new_len, cur_len = 0, 0\n",
        "        func_ir = state.func_ir\n",
        "        vars = ir_utils.get_name_var_table(func_ir.blocks)\n",
        "\n",
        "        for blk in func_ir.blocks.values():\n",
        "            cur_len = len(blk.body)\n",
        "            while cur_len != new_len:\n",
        "                used_vars = []\n",
        "                cur_len = len(blk.body)\n",
        "                for stmt in blk.body:\n",
        "                    # print(stmt)\n",
        "                    used_vars.append(get_rhs_vars(stmt))\n",
        "                used_vars = [item for sublist in used_vars for item in sublist]\n",
        "\n",
        "                new_body = []\n",
        "                # iterate over each statement in the block\n",
        "                for stmt in blk.body:\n",
        "                    target_var = get_lhs_vars(stmt)\n",
        "                    if target_var.name not in used_vars:\n",
        "                        mutate = True  # the pass will mutate the IR\n",
        "                        continue  # skip this statement\n",
        "                    new_body.append(stmt)  # keep this statement\n",
        "                    print(stmt)\n",
        "                blk.body = new_body  # update the block with new statements\n",
        "                new_len = len(blk.body)\n",
        "                print()\n",
        "        return mutate  # the pass has not mutated the IR\n",
        "\n",
        "\n",
        "class MyCompiler(CompilerBase):  # custom compiler extends from CompilerBase\n",
        "\n",
        "    def define_pipelines(self):\n",
        "        pm = DefaultPassBuilder.define_nopython_pipeline(self.state)\n",
        "        #pm.add_pass_after(PrintAssignments, IRProcessing)\n",
        "        pm.add_pass_after(PrintAssignments, ReconstructSSA)\n",
        "        pm.finalize()\n",
        "        return [pm]\n",
        "\n",
        "\n",
        "@njit(pipeline_class=MyCompiler)\n",
        "def dce_test():\n",
        "    a = 10\n",
        "    b = 20\n",
        "    c = 40\n",
        "    d = c + a\n",
        "    e = d + b\n",
        "    c = a + b\n",
        "    return c\n",
        "\n",
        "\n",
        "# test SpMV csr\n",
        "# generate a random sparse matrix CSR format\n",
        "print(numba.__version__, \"\\n\")\n",
        "c = dce_test()\n",
        "print(c)"
      ],
      "metadata": {
        "colab": {
          "base_uri": "https://localhost:8080/"
        },
        "id": "y07iea820qmj",
        "outputId": "5b7a49b6-9c37-4d1e-c25d-d18471872b08"
      },
      "execution_count": null,
      "outputs": [
        {
          "output_type": "stream",
          "name": "stdout",
          "text": [
            "0.60.0 \n",
            "\n",
            "a = const(int, 10)\n",
            "b = const(int, 20)\n",
            "c = const(int, 40)\n",
            "d = c + a\n",
            "c.1 = a + b\n",
            "$40return_value.13 = cast(value=c.1)\n",
            "return $40return_value.13\n",
            "\n",
            "a = const(int, 10)\n",
            "b = const(int, 20)\n",
            "c = const(int, 40)\n",
            "c.1 = a + b\n",
            "$40return_value.13 = cast(value=c.1)\n",
            "return $40return_value.13\n",
            "\n",
            "a = const(int, 10)\n",
            "b = const(int, 20)\n",
            "c.1 = a + b\n",
            "$40return_value.13 = cast(value=c.1)\n",
            "return $40return_value.13\n",
            "\n",
            "a = const(int, 10)\n",
            "b = const(int, 20)\n",
            "c.1 = a + b\n",
            "$40return_value.13 = cast(value=c.1)\n",
            "return $40return_value.13\n",
            "\n",
            "30\n"
          ]
        }
      ]
    },
    {
      "cell_type": "markdown",
      "source": [
        "# **Final demo: Numba SSA to Python AST**"
      ],
      "metadata": {
        "id": "ePYri34FydL_"
      }
    },
    {
      "cell_type": "code",
      "source": [
        "# Compiler pass that gets and stores Numba SSA statements\n",
        "ssa_statements = []\n",
        "\n",
        "@register_pass(mutates_CFG=False, analysis_only=True)\n",
        "class GetSSAPass(FunctionPass):\n",
        "  _name = \"get_ssa\"\n",
        "\n",
        "  def __init__(self):\n",
        "    FunctionPass.__init__(self)\n",
        "\n",
        "  def run_pass(self, state):\n",
        "    for blk in state.func_ir.blocks.values():\n",
        "      for stmt in blk.body:\n",
        "        ssa_statements.append(stmt)\n",
        "    return False # analysis only\n",
        "\n",
        "class GetSSACompiler(CompilerBase):\n",
        "\n",
        "  def define_pipelines(self):\n",
        "    pm = DefaultPassBuilder.define_nopython_pipeline(self.state)\n",
        "    pm.add_pass_after(GetSSAPass, ReconstructSSA)\n",
        "    pm.finalize()\n",
        "    return [pm]"
      ],
      "metadata": {
        "id": "lz7iCd_JhFVY"
      },
      "execution_count": 112,
      "outputs": []
    },
    {
      "cell_type": "code",
      "source": [
        "# Retrieve AST of a function\n",
        "# Then visualize it using Graphviz"
      ],
      "metadata": {
        "id": "xezrjZTQhSL5"
      },
      "execution_count": null,
      "outputs": []
    },
    {
      "cell_type": "code",
      "source": [
        "# get Python AST of a given function\n",
        "def get_ast(func):\n",
        "    source = inspect.getsource(func)\n",
        "    tree = ast.parse(source)\n",
        "    print(\"AST Tree:\", ast.dump(tree, indent=4))\n",
        "    return tree\n",
        "\n",
        "# visualize Python AST\n",
        "def visualize_ast(node, graph=None, parent=None):\n",
        "  if graph is None:\n",
        "    graph = Digraph(comment=\"AST\")\n",
        "\n",
        "  # contex of the node, for example, Store(), Load()\n",
        "  node.ctx = None\n",
        "\n",
        "  node_id = str(id(node))\n",
        "  label = type(node).__name__\n",
        "\n",
        "  # set node name\n",
        "  if isinstance(node, ast.Constant):\n",
        "    label += f\"\\\\n{node.value}\"\n",
        "  elif isinstance(node, ast.Name):\n",
        "    label += f\"\\\\n{node.id}\"\n",
        "  elif isinstance(node, ast.BinOp):\n",
        "    label += f\"\\\\n{type(node.op).__name__}\"\n",
        "\n",
        "  graph.node(node_id, label)\n",
        "\n",
        "  # draw an edge between current node and its parent node\n",
        "  if parent is not None:\n",
        "    graph.edge(parent, node_id)\n",
        "\n",
        "  # recursively draw childs of current node (draw subtrees)\n",
        "  for child_name, child in ast.iter_fields(node):\n",
        "    if isinstance(child, ast.AST):\n",
        "      visualize_ast(child, graph, node_id)\n",
        "    elif isinstance(child, list):\n",
        "      for item in child:\n",
        "        if isinstance(item, ast.AST):\n",
        "          visualize_ast(item, graph, node_id)\n",
        "\n",
        "  return graph\n",
        "\n",
        "def test_ast_loop():\n",
        "  x = 0\n",
        "  for i in range(0, 5):\n",
        "    x += i\n",
        "  return x"
      ],
      "metadata": {
        "id": "JZj9kLMWGU-3"
      },
      "execution_count": 128,
      "outputs": []
    },
    {
      "cell_type": "code",
      "source": [
        "@njit(pipeline_class=GetSSACompiler)\n",
        "def test_ast():\n",
        "  a = 10\n",
        "  a = a + 10\n",
        "  c = a * 2\n",
        "  return c"
      ],
      "metadata": {
        "id": "o8nJbA_rOy-M"
      },
      "execution_count": 129,
      "outputs": []
    },
    {
      "cell_type": "code",
      "source": [
        "ssa_statements = []\n",
        "func_ast = get_ast(test_ast)\n",
        "ast_viz = visualize_ast(func_ast)\n",
        "#ast.render(\"AST Visualization\", format=\"png\", view=True)\n",
        "display(ast_viz)"
      ],
      "metadata": {
        "colab": {
          "base_uri": "https://localhost:8080/",
          "height": 1000
        },
        "id": "fa4wsK3kG8kn",
        "outputId": "9f3f1341-9f59-48dc-9021-e485a981431d"
      },
      "execution_count": 130,
      "outputs": [
        {
          "output_type": "stream",
          "name": "stdout",
          "text": [
            "AST Tree: Module(\n",
            "    body=[\n",
            "        FunctionDef(\n",
            "            name='test_ast',\n",
            "            args=arguments(\n",
            "                posonlyargs=[],\n",
            "                args=[],\n",
            "                kwonlyargs=[],\n",
            "                kw_defaults=[],\n",
            "                defaults=[]),\n",
            "            body=[\n",
            "                Assign(\n",
            "                    targets=[\n",
            "                        Name(id='a', ctx=Store())],\n",
            "                    value=Constant(value=10)),\n",
            "                Assign(\n",
            "                    targets=[\n",
            "                        Name(id='a', ctx=Store())],\n",
            "                    value=BinOp(\n",
            "                        left=Name(id='a', ctx=Load()),\n",
            "                        op=Add(),\n",
            "                        right=Constant(value=10))),\n",
            "                Assign(\n",
            "                    targets=[\n",
            "                        Name(id='c', ctx=Store())],\n",
            "                    value=BinOp(\n",
            "                        left=Name(id='a', ctx=Load()),\n",
            "                        op=Mult(),\n",
            "                        right=Constant(value=2))),\n",
            "                Return(\n",
            "                    value=Name(id='c', ctx=Load()))],\n",
            "            decorator_list=[\n",
            "                Call(\n",
            "                    func=Name(id='njit', ctx=Load()),\n",
            "                    args=[],\n",
            "                    keywords=[\n",
            "                        keyword(\n",
            "                            arg='pipeline_class',\n",
            "                            value=Name(id='GetSSACompiler', ctx=Load()))])])],\n",
            "    type_ignores=[])\n"
          ]
        },
        {
          "output_type": "display_data",
          "data": {
            "image/svg+xml": "<?xml version=\"1.0\" encoding=\"UTF-8\" standalone=\"no\"?>\n<!DOCTYPE svg PUBLIC \"-//W3C//DTD SVG 1.1//EN\"\n \"http://www.w3.org/Graphics/SVG/1.1/DTD/svg11.dtd\">\n<!-- Generated by graphviz version 2.43.0 (0)\n -->\n<!-- Title: %3 Pages: 1 -->\n<svg width=\"869pt\" height=\"367pt\"\n viewBox=\"0.00 0.00 869.26 367.48\" xmlns=\"http://www.w3.org/2000/svg\" xmlns:xlink=\"http://www.w3.org/1999/xlink\">\n<g id=\"graph0\" class=\"graph\" transform=\"scale(1 1) rotate(0) translate(4 363.48)\">\n<title>%3</title>\n<polygon fill=\"white\" stroke=\"transparent\" points=\"-4,4 -4,-363.48 865.26,-363.48 865.26,4 -4,4\"/>\n<!-- 138745563940608 -->\n<g id=\"node1\" class=\"node\">\n<title>138745563940608</title>\n<ellipse fill=\"none\" stroke=\"black\" cx=\"369.36\" cy=\"-341.48\" rx=\"38.19\" ry=\"18\"/>\n<text text-anchor=\"middle\" x=\"369.36\" y=\"-337.78\" font-family=\"Times,serif\" font-size=\"14.00\">Module</text>\n</g>\n<!-- 138745563940416 -->\n<g id=\"node2\" class=\"node\">\n<title>138745563940416</title>\n<ellipse fill=\"none\" stroke=\"black\" cx=\"369.36\" cy=\"-269.48\" rx=\"55.49\" ry=\"18\"/>\n<text text-anchor=\"middle\" x=\"369.36\" y=\"-265.78\" font-family=\"Times,serif\" font-size=\"14.00\">FunctionDef</text>\n</g>\n<!-- 138745563940608&#45;&gt;138745563940416 -->\n<g id=\"edge1\" class=\"edge\">\n<title>138745563940608&#45;&gt;138745563940416</title>\n<path fill=\"none\" stroke=\"black\" d=\"M369.36,-323.18C369.36,-315.46 369.36,-306.19 369.36,-297.59\"/>\n<polygon fill=\"black\" stroke=\"black\" points=\"372.86,-297.58 369.36,-287.58 365.86,-297.58 372.86,-297.58\"/>\n</g>\n<!-- 138745563938976 -->\n<g id=\"node3\" class=\"node\">\n<title>138745563938976</title>\n<ellipse fill=\"none\" stroke=\"black\" cx=\"84.36\" cy=\"-197.48\" rx=\"48.19\" ry=\"18\"/>\n<text text-anchor=\"middle\" x=\"84.36\" y=\"-193.78\" font-family=\"Times,serif\" font-size=\"14.00\">arguments</text>\n</g>\n<!-- 138745563940416&#45;&gt;138745563938976 -->\n<g id=\"edge2\" class=\"edge\">\n<title>138745563940416&#45;&gt;138745563938976</title>\n<path fill=\"none\" stroke=\"black\" d=\"M324.59,-258.93C278.47,-248.89 204.6,-232.25 141.36,-215.48 137.59,-214.48 133.69,-213.41 129.79,-212.3\"/>\n<polygon fill=\"black\" stroke=\"black\" points=\"130.72,-208.93 120.14,-209.52 128.78,-215.65 130.72,-208.93\"/>\n</g>\n<!-- 138745563945552 -->\n<g id=\"node4\" class=\"node\">\n<title>138745563945552</title>\n<ellipse fill=\"none\" stroke=\"black\" cx=\"185.36\" cy=\"-197.48\" rx=\"35.19\" ry=\"18\"/>\n<text text-anchor=\"middle\" x=\"185.36\" y=\"-193.78\" font-family=\"Times,serif\" font-size=\"14.00\">Assign</text>\n</g>\n<!-- 138745563940416&#45;&gt;138745563945552 -->\n<g id=\"edge3\" class=\"edge\">\n<title>138745563940416&#45;&gt;138745563945552</title>\n<path fill=\"none\" stroke=\"black\" d=\"M334.75,-255.31C302.67,-243.11 255.1,-225.01 222.29,-212.53\"/>\n<polygon fill=\"black\" stroke=\"black\" points=\"223.21,-209.14 212.62,-208.85 220.72,-215.68 223.21,-209.14\"/>\n</g>\n<!-- 138745564732560 -->\n<g id=\"node7\" class=\"node\">\n<title>138745564732560</title>\n<ellipse fill=\"none\" stroke=\"black\" cx=\"324.36\" cy=\"-197.48\" rx=\"35.19\" ry=\"18\"/>\n<text text-anchor=\"middle\" x=\"324.36\" y=\"-193.78\" font-family=\"Times,serif\" font-size=\"14.00\">Assign</text>\n</g>\n<!-- 138745563940416&#45;&gt;138745564732560 -->\n<g id=\"edge6\" class=\"edge\">\n<title>138745563940416&#45;&gt;138745564732560</title>\n<path fill=\"none\" stroke=\"black\" d=\"M358.46,-251.54C353.02,-243.07 346.33,-232.67 340.33,-223.32\"/>\n<polygon fill=\"black\" stroke=\"black\" points=\"343.19,-221.31 334.84,-214.79 337.3,-225.09 343.19,-221.31\"/>\n</g>\n<!-- 138745564740288 -->\n<g id=\"node13\" class=\"node\">\n<title>138745564740288</title>\n<ellipse fill=\"none\" stroke=\"black\" cx=\"415.36\" cy=\"-197.48\" rx=\"35.19\" ry=\"18\"/>\n<text text-anchor=\"middle\" x=\"415.36\" y=\"-193.78\" font-family=\"Times,serif\" font-size=\"14.00\">Assign</text>\n</g>\n<!-- 138745563940416&#45;&gt;138745564740288 -->\n<g id=\"edge12\" class=\"edge\">\n<title>138745563940416&#45;&gt;138745564740288</title>\n<path fill=\"none\" stroke=\"black\" d=\"M380.49,-251.54C386.05,-243.07 392.89,-232.67 399.03,-223.32\"/>\n<polygon fill=\"black\" stroke=\"black\" points=\"402.07,-225.07 404.64,-214.79 396.22,-221.22 402.07,-225.07\"/>\n</g>\n<!-- 138745566639776 -->\n<g id=\"node19\" class=\"node\">\n<title>138745566639776</title>\n<ellipse fill=\"none\" stroke=\"black\" cx=\"550.36\" cy=\"-197.48\" rx=\"34.39\" ry=\"18\"/>\n<text text-anchor=\"middle\" x=\"550.36\" y=\"-193.78\" font-family=\"Times,serif\" font-size=\"14.00\">Return</text>\n</g>\n<!-- 138745563940416&#45;&gt;138745566639776 -->\n<g id=\"edge18\" class=\"edge\">\n<title>138745563940416&#45;&gt;138745566639776</title>\n<path fill=\"none\" stroke=\"black\" d=\"M403.83,-255.15C435.34,-242.96 481.79,-225 513.91,-212.58\"/>\n<polygon fill=\"black\" stroke=\"black\" points=\"515.32,-215.78 523.38,-208.91 512.79,-209.25 515.32,-215.78\"/>\n</g>\n<!-- 138745566627200 -->\n<g id=\"node21\" class=\"node\">\n<title>138745566627200</title>\n<ellipse fill=\"none\" stroke=\"black\" cx=\"686.36\" cy=\"-197.48\" rx=\"27\" ry=\"18\"/>\n<text text-anchor=\"middle\" x=\"686.36\" y=\"-193.78\" font-family=\"Times,serif\" font-size=\"14.00\">Call</text>\n</g>\n<!-- 138745563940416&#45;&gt;138745566627200 -->\n<g id=\"edge20\" class=\"edge\">\n<title>138745563940416&#45;&gt;138745566627200</title>\n<path fill=\"none\" stroke=\"black\" d=\"M413.77,-258.67C477.42,-244.62 593.3,-219.03 651.31,-206.22\"/>\n<polygon fill=\"black\" stroke=\"black\" points=\"652.1,-209.63 661.11,-204.05 650.59,-202.79 652.1,-209.63\"/>\n</g>\n<!-- 138745564736256 -->\n<g id=\"node5\" class=\"node\">\n<title>138745564736256</title>\n<ellipse fill=\"none\" stroke=\"black\" cx=\"35.36\" cy=\"-116.61\" rx=\"35.21\" ry=\"26.74\"/>\n<text text-anchor=\"middle\" x=\"35.36\" y=\"-120.41\" font-family=\"Times,serif\" font-size=\"14.00\">Name</text>\n<text text-anchor=\"middle\" x=\"35.36\" y=\"-105.41\" font-family=\"Times,serif\" font-size=\"14.00\">a</text>\n</g>\n<!-- 138745563945552&#45;&gt;138745564736256 -->\n<g id=\"edge4\" class=\"edge\">\n<title>138745563945552&#45;&gt;138745564736256</title>\n<path fill=\"none\" stroke=\"black\" d=\"M160.27,-184.53C138.63,-174.08 106.66,-158.31 79.36,-143.48 76.8,-142.09 74.18,-140.64 71.55,-139.15\"/>\n<polygon fill=\"black\" stroke=\"black\" points=\"73.07,-135.99 62.65,-134.05 69.58,-142.06 73.07,-135.99\"/>\n</g>\n<!-- 138745564734960 -->\n<g id=\"node6\" class=\"node\">\n<title>138745564734960</title>\n<ellipse fill=\"none\" stroke=\"black\" cx=\"134.36\" cy=\"-116.61\" rx=\"45.92\" ry=\"26.74\"/>\n<text text-anchor=\"middle\" x=\"134.36\" y=\"-120.41\" font-family=\"Times,serif\" font-size=\"14.00\">Constant</text>\n<text text-anchor=\"middle\" x=\"134.36\" y=\"-105.41\" font-family=\"Times,serif\" font-size=\"14.00\">10</text>\n</g>\n<!-- 138745563945552&#45;&gt;138745564734960 -->\n<g id=\"edge5\" class=\"edge\">\n<title>138745563945552&#45;&gt;138745564734960</title>\n<path fill=\"none\" stroke=\"black\" d=\"M174.79,-180.14C169.23,-171.54 162.2,-160.67 155.57,-150.42\"/>\n<polygon fill=\"black\" stroke=\"black\" points=\"158.51,-148.52 150.14,-142.02 152.63,-152.32 158.51,-148.52\"/>\n</g>\n<!-- 138745564726944 -->\n<g id=\"node8\" class=\"node\">\n<title>138745564726944</title>\n<ellipse fill=\"none\" stroke=\"black\" cx=\"233.36\" cy=\"-116.61\" rx=\"35.21\" ry=\"26.74\"/>\n<text text-anchor=\"middle\" x=\"233.36\" y=\"-120.41\" font-family=\"Times,serif\" font-size=\"14.00\">Name</text>\n<text text-anchor=\"middle\" x=\"233.36\" y=\"-105.41\" font-family=\"Times,serif\" font-size=\"14.00\">a</text>\n</g>\n<!-- 138745564732560&#45;&gt;138745564726944 -->\n<g id=\"edge7\" class=\"edge\">\n<title>138745564732560&#45;&gt;138745564726944</title>\n<path fill=\"none\" stroke=\"black\" d=\"M307.24,-181.65C295.08,-171.1 278.41,-156.66 263.98,-144.15\"/>\n<polygon fill=\"black\" stroke=\"black\" points=\"266.09,-141.35 256.24,-137.44 261.5,-146.64 266.09,-141.35\"/>\n</g>\n<!-- 138745564741440 -->\n<g id=\"node9\" class=\"node\">\n<title>138745564741440</title>\n<ellipse fill=\"none\" stroke=\"black\" cx=\"324.36\" cy=\"-116.61\" rx=\"37.45\" ry=\"26.74\"/>\n<text text-anchor=\"middle\" x=\"324.36\" y=\"-120.41\" font-family=\"Times,serif\" font-size=\"14.00\">BinOp</text>\n<text text-anchor=\"middle\" x=\"324.36\" y=\"-105.41\" font-family=\"Times,serif\" font-size=\"14.00\">Add</text>\n</g>\n<!-- 138745564732560&#45;&gt;138745564741440 -->\n<g id=\"edge8\" class=\"edge\">\n<title>138745564732560&#45;&gt;138745564741440</title>\n<path fill=\"none\" stroke=\"black\" d=\"M324.36,-179.37C324.36,-171.88 324.36,-162.79 324.36,-153.91\"/>\n<polygon fill=\"black\" stroke=\"black\" points=\"327.86,-153.69 324.36,-143.69 320.86,-153.69 327.86,-153.69\"/>\n</g>\n<!-- 138745564734816 -->\n<g id=\"node10\" class=\"node\">\n<title>138745564734816</title>\n<ellipse fill=\"none\" stroke=\"black\" cx=\"173.36\" cy=\"-26.87\" rx=\"35.21\" ry=\"26.74\"/>\n<text text-anchor=\"middle\" x=\"173.36\" y=\"-30.67\" font-family=\"Times,serif\" font-size=\"14.00\">Name</text>\n<text text-anchor=\"middle\" x=\"173.36\" y=\"-15.67\" font-family=\"Times,serif\" font-size=\"14.00\">a</text>\n</g>\n<!-- 138745564741440&#45;&gt;138745564734816 -->\n<g id=\"edge9\" class=\"edge\">\n<title>138745564741440&#45;&gt;138745564734816</title>\n<path fill=\"none\" stroke=\"black\" d=\"M295.71,-99.12C274.14,-86.69 243.86,-69.2 217.36,-53.74 214.84,-52.28 212.25,-50.76 209.64,-49.23\"/>\n<polygon fill=\"black\" stroke=\"black\" points=\"211.2,-46.09 200.8,-44.05 207.65,-52.12 211.2,-46.09\"/>\n</g>\n<!-- 138746686162064 -->\n<g id=\"node11\" class=\"node\">\n<title>138746686162064</title>\n<ellipse fill=\"none\" stroke=\"black\" cx=\"253.36\" cy=\"-26.87\" rx=\"27\" ry=\"18\"/>\n<text text-anchor=\"middle\" x=\"253.36\" y=\"-23.17\" font-family=\"Times,serif\" font-size=\"14.00\">Add</text>\n</g>\n<!-- 138745564741440&#45;&gt;138746686162064 -->\n<g id=\"edge10\" class=\"edge\">\n<title>138745564741440&#45;&gt;138746686162064</title>\n<path fill=\"none\" stroke=\"black\" d=\"M306.07,-93.01C295.62,-80.1 282.55,-63.95 272.04,-50.95\"/>\n<polygon fill=\"black\" stroke=\"black\" points=\"274.56,-48.51 265.55,-42.94 269.12,-52.91 274.56,-48.51\"/>\n</g>\n<!-- 138745564741392 -->\n<g id=\"node12\" class=\"node\">\n<title>138745564741392</title>\n<ellipse fill=\"none\" stroke=\"black\" cx=\"344.36\" cy=\"-26.87\" rx=\"45.92\" ry=\"26.74\"/>\n<text text-anchor=\"middle\" x=\"344.36\" y=\"-30.67\" font-family=\"Times,serif\" font-size=\"14.00\">Constant</text>\n<text text-anchor=\"middle\" x=\"344.36\" y=\"-15.67\" font-family=\"Times,serif\" font-size=\"14.00\">10</text>\n</g>\n<!-- 138745564741440&#45;&gt;138745564741392 -->\n<g id=\"edge11\" class=\"edge\">\n<title>138745564741440&#45;&gt;138745564741392</title>\n<path fill=\"none\" stroke=\"black\" d=\"M330.25,-89.76C332.12,-81.55 334.22,-72.32 336.22,-63.54\"/>\n<polygon fill=\"black\" stroke=\"black\" points=\"339.69,-64.06 338.5,-53.54 332.87,-62.51 339.69,-64.06\"/>\n</g>\n<!-- 138745564731888 -->\n<g id=\"node14\" class=\"node\">\n<title>138745564731888</title>\n<ellipse fill=\"none\" stroke=\"black\" cx=\"415.36\" cy=\"-116.61\" rx=\"35.21\" ry=\"26.74\"/>\n<text text-anchor=\"middle\" x=\"415.36\" y=\"-120.41\" font-family=\"Times,serif\" font-size=\"14.00\">Name</text>\n<text text-anchor=\"middle\" x=\"415.36\" y=\"-105.41\" font-family=\"Times,serif\" font-size=\"14.00\">c</text>\n</g>\n<!-- 138745564740288&#45;&gt;138745564731888 -->\n<g id=\"edge13\" class=\"edge\">\n<title>138745564740288&#45;&gt;138745564731888</title>\n<path fill=\"none\" stroke=\"black\" d=\"M415.36,-179.37C415.36,-171.88 415.36,-162.79 415.36,-153.91\"/>\n<polygon fill=\"black\" stroke=\"black\" points=\"418.86,-153.69 415.36,-143.69 411.86,-153.69 418.86,-153.69\"/>\n</g>\n<!-- 138745564729632 -->\n<g id=\"node15\" class=\"node\">\n<title>138745564729632</title>\n<ellipse fill=\"none\" stroke=\"black\" cx=\"506.36\" cy=\"-116.61\" rx=\"37.45\" ry=\"26.74\"/>\n<text text-anchor=\"middle\" x=\"506.36\" y=\"-120.41\" font-family=\"Times,serif\" font-size=\"14.00\">BinOp</text>\n<text text-anchor=\"middle\" x=\"506.36\" y=\"-105.41\" font-family=\"Times,serif\" font-size=\"14.00\">Mult</text>\n</g>\n<!-- 138745564740288&#45;&gt;138745564729632 -->\n<g id=\"edge14\" class=\"edge\">\n<title>138745564740288&#45;&gt;138745564729632</title>\n<path fill=\"none\" stroke=\"black\" d=\"M432.47,-181.65C444.55,-171.18 461.07,-156.86 475.42,-144.42\"/>\n<polygon fill=\"black\" stroke=\"black\" points=\"477.87,-146.93 483.13,-137.74 473.28,-141.64 477.87,-146.93\"/>\n</g>\n<!-- 138745564732464 -->\n<g id=\"node16\" class=\"node\">\n<title>138745564732464</title>\n<ellipse fill=\"none\" stroke=\"black\" cx=\"443.36\" cy=\"-26.87\" rx=\"35.21\" ry=\"26.74\"/>\n<text text-anchor=\"middle\" x=\"443.36\" y=\"-30.67\" font-family=\"Times,serif\" font-size=\"14.00\">Name</text>\n<text text-anchor=\"middle\" x=\"443.36\" y=\"-15.67\" font-family=\"Times,serif\" font-size=\"14.00\">a</text>\n</g>\n<!-- 138745564729632&#45;&gt;138745564732464 -->\n<g id=\"edge15\" class=\"edge\">\n<title>138745564729632&#45;&gt;138745564732464</title>\n<path fill=\"none\" stroke=\"black\" d=\"M489.47,-92.1C482.23,-82 473.65,-70.06 465.87,-59.23\"/>\n<polygon fill=\"black\" stroke=\"black\" points=\"468.52,-56.92 459.85,-50.84 462.84,-61 468.52,-56.92\"/>\n</g>\n<!-- 138746686162256 -->\n<g id=\"node17\" class=\"node\">\n<title>138746686162256</title>\n<ellipse fill=\"none\" stroke=\"black\" cx=\"525.36\" cy=\"-26.87\" rx=\"28.7\" ry=\"18\"/>\n<text text-anchor=\"middle\" x=\"525.36\" y=\"-23.17\" font-family=\"Times,serif\" font-size=\"14.00\">Mult</text>\n</g>\n<!-- 138745564729632&#45;&gt;138746686162256 -->\n<g id=\"edge16\" class=\"edge\">\n<title>138745564729632&#45;&gt;138746686162256</title>\n<path fill=\"none\" stroke=\"black\" d=\"M511.95,-89.76C514.33,-78.8 517.09,-66.03 519.49,-54.95\"/>\n<polygon fill=\"black\" stroke=\"black\" points=\"522.96,-55.46 521.66,-44.95 516.12,-53.98 522.96,-55.46\"/>\n</g>\n<!-- 138745566632096 -->\n<g id=\"node18\" class=\"node\">\n<title>138745566632096</title>\n<ellipse fill=\"none\" stroke=\"black\" cx=\"618.36\" cy=\"-26.87\" rx=\"45.92\" ry=\"26.74\"/>\n<text text-anchor=\"middle\" x=\"618.36\" y=\"-30.67\" font-family=\"Times,serif\" font-size=\"14.00\">Constant</text>\n<text text-anchor=\"middle\" x=\"618.36\" y=\"-15.67\" font-family=\"Times,serif\" font-size=\"14.00\">2</text>\n</g>\n<!-- 138745564729632&#45;&gt;138745566632096 -->\n<g id=\"edge17\" class=\"edge\">\n<title>138745564729632&#45;&gt;138745566632096</title>\n<path fill=\"none\" stroke=\"black\" d=\"M531.21,-96.14C546.61,-84.08 566.61,-68.41 583.57,-55.12\"/>\n<polygon fill=\"black\" stroke=\"black\" points=\"585.9,-57.74 591.61,-48.82 581.58,-52.23 585.9,-57.74\"/>\n</g>\n<!-- 138745566628256 -->\n<g id=\"node20\" class=\"node\">\n<title>138745566628256</title>\n<ellipse fill=\"none\" stroke=\"black\" cx=\"597.36\" cy=\"-116.61\" rx=\"35.21\" ry=\"26.74\"/>\n<text text-anchor=\"middle\" x=\"597.36\" y=\"-120.41\" font-family=\"Times,serif\" font-size=\"14.00\">Name</text>\n<text text-anchor=\"middle\" x=\"597.36\" y=\"-105.41\" font-family=\"Times,serif\" font-size=\"14.00\">c</text>\n</g>\n<!-- 138745566639776&#45;&gt;138745566628256 -->\n<g id=\"edge19\" class=\"edge\">\n<title>138745566639776&#45;&gt;138745566628256</title>\n<path fill=\"none\" stroke=\"black\" d=\"M560.09,-180.14C565.25,-171.48 571.77,-160.54 577.92,-150.23\"/>\n<polygon fill=\"black\" stroke=\"black\" points=\"581.06,-151.8 583.17,-141.41 575.04,-148.21 581.06,-151.8\"/>\n</g>\n<!-- 138745566629120 -->\n<g id=\"node22\" class=\"node\">\n<title>138745566629120</title>\n<ellipse fill=\"none\" stroke=\"black\" cx=\"686.36\" cy=\"-116.61\" rx=\"35.21\" ry=\"26.74\"/>\n<text text-anchor=\"middle\" x=\"686.36\" y=\"-120.41\" font-family=\"Times,serif\" font-size=\"14.00\">Name</text>\n<text text-anchor=\"middle\" x=\"686.36\" y=\"-105.41\" font-family=\"Times,serif\" font-size=\"14.00\">njit</text>\n</g>\n<!-- 138745566627200&#45;&gt;138745566629120 -->\n<g id=\"edge21\" class=\"edge\">\n<title>138745566627200&#45;&gt;138745566629120</title>\n<path fill=\"none\" stroke=\"black\" d=\"M686.36,-179.37C686.36,-171.88 686.36,-162.79 686.36,-153.91\"/>\n<polygon fill=\"black\" stroke=\"black\" points=\"689.86,-153.69 686.36,-143.69 682.86,-153.69 689.86,-153.69\"/>\n</g>\n<!-- 138745566628592 -->\n<g id=\"node23\" class=\"node\">\n<title>138745566628592</title>\n<ellipse fill=\"none\" stroke=\"black\" cx=\"781.36\" cy=\"-116.61\" rx=\"41.69\" ry=\"18\"/>\n<text text-anchor=\"middle\" x=\"781.36\" y=\"-112.91\" font-family=\"Times,serif\" font-size=\"14.00\">keyword</text>\n</g>\n<!-- 138745566627200&#45;&gt;138745566628592 -->\n<g id=\"edge22\" class=\"edge\">\n<title>138745566627200&#45;&gt;138745566628592</title>\n<path fill=\"none\" stroke=\"black\" d=\"M702.9,-182.74C717.34,-170.76 738.53,-153.16 755.25,-139.28\"/>\n<polygon fill=\"black\" stroke=\"black\" points=\"757.59,-141.89 763.05,-132.81 753.12,-136.5 757.59,-141.89\"/>\n</g>\n<!-- 138745566632336 -->\n<g id=\"node24\" class=\"node\">\n<title>138745566632336</title>\n<ellipse fill=\"none\" stroke=\"black\" cx=\"781.36\" cy=\"-26.87\" rx=\"79.81\" ry=\"26.74\"/>\n<text text-anchor=\"middle\" x=\"781.36\" y=\"-30.67\" font-family=\"Times,serif\" font-size=\"14.00\">Name</text>\n<text text-anchor=\"middle\" x=\"781.36\" y=\"-15.67\" font-family=\"Times,serif\" font-size=\"14.00\">GetSSACompiler</text>\n</g>\n<!-- 138745566628592&#45;&gt;138745566632336 -->\n<g id=\"edge23\" class=\"edge\">\n<title>138745566628592&#45;&gt;138745566632336</title>\n<path fill=\"none\" stroke=\"black\" d=\"M781.36,-98.28C781.36,-88.46 781.36,-75.82 781.36,-63.95\"/>\n<polygon fill=\"black\" stroke=\"black\" points=\"784.86,-63.82 781.36,-53.82 777.86,-63.82 784.86,-63.82\"/>\n</g>\n</g>\n</svg>\n",
            "text/plain": [
              "<graphviz.graphs.Digraph at 0x7e303836bc70>"
            ]
          },
          "metadata": {}
        }
      ]
    },
    {
      "cell_type": "code",
      "source": [
        "# Mapping from Numba SSA operation to Python AST node\n",
        "op_map = {\n",
        "    'add': ast.Add,\n",
        "    'sub': ast.Sub,\n",
        "    'mul': ast.Mult,\n",
        "    'div': ast.Div\n",
        "}\n",
        "\n",
        "'''\n",
        "Convert Numba SSA to Python AST\n",
        "'''\n",
        "def ssa_to_ast(ssa_statements, func):\n",
        "  expr_dict = {}          # stores rhs expressions\n",
        "  const_dict = {}         # stores intermediate variables used to store constants\n",
        "  assign_targets = set()  # prevent substituting variables by its assignment statement\n",
        "  var_map = {}            # mapping between original variable and its SSAs\n",
        "  func_body = []\n",
        "\n",
        "  # get function name and args\n",
        "  func_name = func.__name__\n",
        "  args = [arg.name for arg in inspect.signature(func).parameters.values()]\n",
        "\n",
        "  # In this demo, I only considered the cases that an expression is either\n",
        "  # a variable assignment or a return statement\n",
        "  for stmt in ssa_statements:\n",
        "    if isinstance(stmt, ir.Assign):\n",
        "      target_name = stmt.target.name\n",
        "\n",
        "      # store intermidate constant variables created by SSA\n",
        "      if target_name.startswith('$'):\n",
        "        const_dict[target_name] = stmt.value.value\n",
        "        continue\n",
        "\n",
        "      # store mapping between SSA version names and base names\n",
        "      base_name = re.sub(r'\\.\\d+$', '', target_name)\n",
        "      var_map[target_name] = base_name\n",
        "\n",
        "      # store rhs of the expression\n",
        "      expr_dict[target_name] = stmt.value\n",
        "\n",
        "      # create an Assign AST node\n",
        "      target_node = ast.Name(id=var_map.get(target_name, target_name), ctx=ast.Store())\n",
        "      value_node = build_ast(target_name, expr_dict, const_dict, var_map, assign_targets)\n",
        "      assign_node = ast.Assign(targets=[target_node], value=value_node)\n",
        "      func_body.append(assign_node)\n",
        "\n",
        "      assign_targets.add(target_name)\n",
        "\n",
        "    elif isinstance(stmt, ir.Return):\n",
        "      return_node = None\n",
        "      if stmt.value.name in const_dict:             # returning a variable\n",
        "        tmp_name = const_dict[stmt.value.name].name # if returning a intermediate constant variable\n",
        "        if tmp_name in var_map:                     # find its original form, then check if the original form is an SSA\n",
        "          return_var_node = ast.Name(id=var_map[tmp_name], ctx=ast.Load())\n",
        "          return_node = ast.Return(value=return_var_node)\n",
        "        else:\n",
        "          return_var_node = ast.Name(id=tmp_name, ctx=ast.Load())\n",
        "          return_node = ast.Return(value=return_var_node)\n",
        "      else: # returning an expression\n",
        "        return_expr = stmt.value.name\n",
        "        return_node = ast.Return(value=build_ast(return_expr, expr_dict, const_dict, var_map, assign_targets))\n",
        "\n",
        "      func_body.append(return_node)\n",
        "\n",
        "  # Add function parameters\n",
        "  arg_nodes = [ast.arg(arg=arg, annotation=None) for arg in args]\n",
        "  args_node = ast.arguments(\n",
        "      posonlyargs=[], args=arg_nodes, vararg=None, kwonlyargs=[],\n",
        "      kw_defaults=[], kwarg=None, defaults=[]\n",
        "  )\n",
        "\n",
        "  # Build function definition node\n",
        "  func_def_node = ast.FunctionDef(\n",
        "      name=func_name,\n",
        "      args=args_node,\n",
        "      body=func_body,\n",
        "      decorator_list=[]\n",
        "  )\n",
        "\n",
        "  return ast.Module(body=[func_def_node], type_ignores=[])\n",
        "\n",
        "\n",
        "'''\n",
        "recrusively reconstruct AST\n",
        "'''\n",
        "def build_ast(target_name, expr_dict, const_dict, var_map, assign_targets):\n",
        "  if target_name in const_dict and target_name.startswith('$'):\n",
        "    return ast.Constant(value=const_dict[target_name])\n",
        "\n",
        "  expr = expr_dict[target_name]\n",
        "  # print('new run')\n",
        "  # print('assign targets:', assign_targets)\n",
        "  # print(target_name, const_dict)\n",
        "  # print('expression:', expr)\n",
        "\n",
        "  if isinstance(expr, ir.Const):\n",
        "    if target_name in assign_targets:\n",
        "      return ast.Name(id=target_name, ctx=ast.Load())\n",
        "    return ast.Constant(value=expr.value)\n",
        "\n",
        "  elif isinstance(expr, ir.Var):\n",
        "    return ast.Name(id=var_map[expr.Name], ctx=ast.Load())\n",
        "\n",
        "  # if the expression contains another expression, recursively build the AST\n",
        "  elif isinstance(expr, ir.Expr):\n",
        "    if target_name in assign_targets:\n",
        "      return ast.Name(id=target_name, ctx=ast.Load())\n",
        "\n",
        "    if expr.op == 'cast':\n",
        "      return None\n",
        "\n",
        "    left_node = build_ast(var_map.get(expr.lhs.name, expr.lhs.name), expr_dict, const_dict, var_map, assign_targets)\n",
        "    right_node = build_ast(var_map.get(expr.rhs.name, expr.rhs.name), expr_dict, const_dict, var_map, assign_targets)\n",
        "    op_node = op_map[expr.fn.__name__]()  # binary ops are encapsulated as Python fn\n",
        "    return ast.BinOp(left=left_node, op=op_node, right=right_node)\n",
        "\n",
        "  else:\n",
        "    raise ValueError(f\"Unsupported expression type: {type(expr)}\")"
      ],
      "metadata": {
        "id": "pBZM3l5IUSKu"
      },
      "execution_count": 132,
      "outputs": []
    },
    {
      "cell_type": "code",
      "source": [
        "test_ast()\n",
        "print('Numba SSA:')\n",
        "for stmt in ssa_statements:\n",
        "   print(stmt)\n",
        "print()\n",
        "# print(ssa_statements[4].value.lhs.name)\n",
        "# print()\n",
        "# for stmt in ssa_statements:\n",
        "#   if isinstance(stmt.value, ir.Expr):\n",
        "#     print(stmt.value)\n",
        "#     print(\"rhs:\", stmt.value.fn.__name__)\n",
        "ast_from_ssa = ssa_to_ast(ssa_statements, test_ast)\n",
        "ast_from_ssa_viz = visualize_ast(ast_from_ssa)\n",
        "display(ast_from_ssa_viz)"
      ],
      "metadata": {
        "colab": {
          "base_uri": "https://localhost:8080/",
          "height": 667
        },
        "id": "gSG18lF7hsTS",
        "outputId": "69c3f7c7-c95c-45d3-bf21-a57e633b87c2"
      },
      "execution_count": 133,
      "outputs": [
        {
          "output_type": "stream",
          "name": "stdout",
          "text": [
            "Numba SSA:\n",
            "a = const(int, 10)\n",
            "$const8.2 = const(int, 10)\n",
            "a.1 = a + $const8.2\n",
            "$const16.5 = const(int, 2)\n",
            "c = a.1 * $const16.5\n",
            "$24return_value.8 = cast(value=c)\n",
            "return $24return_value.8\n",
            "\n"
          ]
        },
        {
          "output_type": "display_data",
          "data": {
            "image/svg+xml": "<?xml version=\"1.0\" encoding=\"UTF-8\" standalone=\"no\"?>\n<!DOCTYPE svg PUBLIC \"-//W3C//DTD SVG 1.1//EN\"\n \"http://www.w3.org/Graphics/SVG/1.1/DTD/svg11.dtd\">\n<!-- Generated by graphviz version 2.43.0 (0)\n -->\n<!-- Title: %3 Pages: 1 -->\n<svg width=\"694pt\" height=\"367pt\"\n viewBox=\"0.00 0.00 694.32 367.48\" xmlns=\"http://www.w3.org/2000/svg\" xmlns:xlink=\"http://www.w3.org/1999/xlink\">\n<g id=\"graph0\" class=\"graph\" transform=\"scale(1 1) rotate(0) translate(4 363.48)\">\n<title>%3</title>\n<polygon fill=\"white\" stroke=\"transparent\" points=\"-4,4 -4,-363.48 690.32,-363.48 690.32,4 -4,4\"/>\n<!-- 138746260590304 -->\n<g id=\"node1\" class=\"node\">\n<title>138746260590304</title>\n<ellipse fill=\"none\" stroke=\"black\" cx=\"278.36\" cy=\"-341.48\" rx=\"38.19\" ry=\"18\"/>\n<text text-anchor=\"middle\" x=\"278.36\" y=\"-337.78\" font-family=\"Times,serif\" font-size=\"14.00\">Module</text>\n</g>\n<!-- 138746260598800 -->\n<g id=\"node2\" class=\"node\">\n<title>138746260598800</title>\n<ellipse fill=\"none\" stroke=\"black\" cx=\"278.36\" cy=\"-269.48\" rx=\"55.49\" ry=\"18\"/>\n<text text-anchor=\"middle\" x=\"278.36\" y=\"-265.78\" font-family=\"Times,serif\" font-size=\"14.00\">FunctionDef</text>\n</g>\n<!-- 138746260590304&#45;&gt;138746260598800 -->\n<g id=\"edge1\" class=\"edge\">\n<title>138746260590304&#45;&gt;138746260598800</title>\n<path fill=\"none\" stroke=\"black\" d=\"M278.36,-323.18C278.36,-315.46 278.36,-306.19 278.36,-297.59\"/>\n<polygon fill=\"black\" stroke=\"black\" points=\"281.86,-297.58 278.36,-287.58 274.86,-297.58 281.86,-297.58\"/>\n</g>\n<!-- 138745564304080 -->\n<g id=\"node3\" class=\"node\">\n<title>138745564304080</title>\n<ellipse fill=\"none\" stroke=\"black\" cx=\"84.36\" cy=\"-197.48\" rx=\"48.19\" ry=\"18\"/>\n<text text-anchor=\"middle\" x=\"84.36\" y=\"-193.78\" font-family=\"Times,serif\" font-size=\"14.00\">arguments</text>\n</g>\n<!-- 138746260598800&#45;&gt;138745564304080 -->\n<g id=\"edge2\" class=\"edge\">\n<title>138746260598800&#45;&gt;138745564304080</title>\n<path fill=\"none\" stroke=\"black\" d=\"M242.77,-255.64C210.32,-243.93 162.28,-226.6 127.61,-214.09\"/>\n<polygon fill=\"black\" stroke=\"black\" points=\"128.36,-210.64 117.77,-210.54 125.99,-217.22 128.36,-210.64\"/>\n</g>\n<!-- 138745564314352 -->\n<g id=\"node4\" class=\"node\">\n<title>138745564314352</title>\n<ellipse fill=\"none\" stroke=\"black\" cx=\"185.36\" cy=\"-197.48\" rx=\"35.19\" ry=\"18\"/>\n<text text-anchor=\"middle\" x=\"185.36\" y=\"-193.78\" font-family=\"Times,serif\" font-size=\"14.00\">Assign</text>\n</g>\n<!-- 138746260598800&#45;&gt;138745564314352 -->\n<g id=\"edge3\" class=\"edge\">\n<title>138746260598800&#45;&gt;138745564314352</title>\n<path fill=\"none\" stroke=\"black\" d=\"M257.25,-252.6C243.99,-242.62 226.76,-229.64 212.48,-218.9\"/>\n<polygon fill=\"black\" stroke=\"black\" points=\"214.57,-216.09 204.48,-212.87 210.36,-221.68 214.57,-216.09\"/>\n</g>\n<!-- 138746260593280 -->\n<g id=\"node7\" class=\"node\">\n<title>138746260593280</title>\n<ellipse fill=\"none\" stroke=\"black\" cx=\"278.36\" cy=\"-197.48\" rx=\"35.19\" ry=\"18\"/>\n<text text-anchor=\"middle\" x=\"278.36\" y=\"-193.78\" font-family=\"Times,serif\" font-size=\"14.00\">Assign</text>\n</g>\n<!-- 138746260598800&#45;&gt;138746260593280 -->\n<g id=\"edge6\" class=\"edge\">\n<title>138746260598800&#45;&gt;138746260593280</title>\n<path fill=\"none\" stroke=\"black\" d=\"M278.36,-251.18C278.36,-243.46 278.36,-234.19 278.36,-225.59\"/>\n<polygon fill=\"black\" stroke=\"black\" points=\"281.86,-225.58 278.36,-215.58 274.86,-225.58 281.86,-225.58\"/>\n</g>\n<!-- 138746260587088 -->\n<g id=\"node13\" class=\"node\">\n<title>138746260587088</title>\n<ellipse fill=\"none\" stroke=\"black\" cx=\"415.36\" cy=\"-197.48\" rx=\"35.19\" ry=\"18\"/>\n<text text-anchor=\"middle\" x=\"415.36\" y=\"-193.78\" font-family=\"Times,serif\" font-size=\"14.00\">Assign</text>\n</g>\n<!-- 138746260598800&#45;&gt;138746260587088 -->\n<g id=\"edge12\" class=\"edge\">\n<title>138746260598800&#45;&gt;138746260587088</title>\n<path fill=\"none\" stroke=\"black\" d=\"M306.74,-253.98C328.65,-242.78 359,-227.27 382.05,-215.5\"/>\n<polygon fill=\"black\" stroke=\"black\" points=\"383.81,-218.53 391.13,-210.86 380.63,-212.29 383.81,-218.53\"/>\n</g>\n<!-- 138746260595632 -->\n<g id=\"node19\" class=\"node\">\n<title>138746260595632</title>\n<ellipse fill=\"none\" stroke=\"black\" cx=\"550.36\" cy=\"-197.48\" rx=\"34.39\" ry=\"18\"/>\n<text text-anchor=\"middle\" x=\"550.36\" y=\"-193.78\" font-family=\"Times,serif\" font-size=\"14.00\">Return</text>\n</g>\n<!-- 138746260598800&#45;&gt;138746260595632 -->\n<g id=\"edge18\" class=\"edge\">\n<title>138746260598800&#45;&gt;138746260595632</title>\n<path fill=\"none\" stroke=\"black\" d=\"M320.26,-257.7C371.98,-244.39 459.32,-221.91 510.22,-208.81\"/>\n<polygon fill=\"black\" stroke=\"black\" points=\"511.38,-212.12 520.19,-206.24 509.64,-205.35 511.38,-212.12\"/>\n</g>\n<!-- 138745564310224 -->\n<g id=\"node5\" class=\"node\">\n<title>138745564310224</title>\n<ellipse fill=\"none\" stroke=\"black\" cx=\"35.36\" cy=\"-116.61\" rx=\"35.21\" ry=\"26.74\"/>\n<text text-anchor=\"middle\" x=\"35.36\" y=\"-120.41\" font-family=\"Times,serif\" font-size=\"14.00\">Name</text>\n<text text-anchor=\"middle\" x=\"35.36\" y=\"-105.41\" font-family=\"Times,serif\" font-size=\"14.00\">a</text>\n</g>\n<!-- 138745564314352&#45;&gt;138745564310224 -->\n<g id=\"edge4\" class=\"edge\">\n<title>138745564314352&#45;&gt;138745564310224</title>\n<path fill=\"none\" stroke=\"black\" d=\"M160.27,-184.53C138.63,-174.08 106.66,-158.31 79.36,-143.48 76.8,-142.09 74.18,-140.64 71.55,-139.15\"/>\n<polygon fill=\"black\" stroke=\"black\" points=\"73.07,-135.99 62.65,-134.05 69.58,-142.06 73.07,-135.99\"/>\n</g>\n<!-- 138745564309648 -->\n<g id=\"node6\" class=\"node\">\n<title>138745564309648</title>\n<ellipse fill=\"none\" stroke=\"black\" cx=\"134.36\" cy=\"-116.61\" rx=\"45.92\" ry=\"26.74\"/>\n<text text-anchor=\"middle\" x=\"134.36\" y=\"-120.41\" font-family=\"Times,serif\" font-size=\"14.00\">Constant</text>\n<text text-anchor=\"middle\" x=\"134.36\" y=\"-105.41\" font-family=\"Times,serif\" font-size=\"14.00\">10</text>\n</g>\n<!-- 138745564314352&#45;&gt;138745564309648 -->\n<g id=\"edge5\" class=\"edge\">\n<title>138745564314352&#45;&gt;138745564309648</title>\n<path fill=\"none\" stroke=\"black\" d=\"M174.79,-180.14C169.23,-171.54 162.2,-160.67 155.57,-150.42\"/>\n<polygon fill=\"black\" stroke=\"black\" points=\"158.51,-148.52 150.14,-142.02 152.63,-152.32 158.51,-148.52\"/>\n</g>\n<!-- 138745564303120 -->\n<g id=\"node8\" class=\"node\">\n<title>138745564303120</title>\n<ellipse fill=\"none\" stroke=\"black\" cx=\"233.36\" cy=\"-116.61\" rx=\"35.21\" ry=\"26.74\"/>\n<text text-anchor=\"middle\" x=\"233.36\" y=\"-120.41\" font-family=\"Times,serif\" font-size=\"14.00\">Name</text>\n<text text-anchor=\"middle\" x=\"233.36\" y=\"-105.41\" font-family=\"Times,serif\" font-size=\"14.00\">a</text>\n</g>\n<!-- 138746260593280&#45;&gt;138745564303120 -->\n<g id=\"edge7\" class=\"edge\">\n<title>138746260593280&#45;&gt;138745564303120</title>\n<path fill=\"none\" stroke=\"black\" d=\"M268.81,-179.75C263.9,-171.15 257.75,-160.36 251.95,-150.2\"/>\n<polygon fill=\"black\" stroke=\"black\" points=\"254.98,-148.45 246.98,-141.49 248.9,-151.91 254.98,-148.45\"/>\n</g>\n<!-- 138745567746304 -->\n<g id=\"node9\" class=\"node\">\n<title>138745567746304</title>\n<ellipse fill=\"none\" stroke=\"black\" cx=\"324.36\" cy=\"-116.61\" rx=\"37.45\" ry=\"26.74\"/>\n<text text-anchor=\"middle\" x=\"324.36\" y=\"-120.41\" font-family=\"Times,serif\" font-size=\"14.00\">BinOp</text>\n<text text-anchor=\"middle\" x=\"324.36\" y=\"-105.41\" font-family=\"Times,serif\" font-size=\"14.00\">Add</text>\n</g>\n<!-- 138746260593280&#45;&gt;138745567746304 -->\n<g id=\"edge8\" class=\"edge\">\n<title>138746260593280&#45;&gt;138745567746304</title>\n<path fill=\"none\" stroke=\"black\" d=\"M287.89,-180.14C292.89,-171.55 299.22,-160.71 305.18,-150.48\"/>\n<polygon fill=\"black\" stroke=\"black\" points=\"308.28,-152.12 310.3,-141.72 302.23,-148.59 308.28,-152.12\"/>\n</g>\n<!-- 138745564301056 -->\n<g id=\"node10\" class=\"node\">\n<title>138745564301056</title>\n<ellipse fill=\"none\" stroke=\"black\" cx=\"195.36\" cy=\"-26.87\" rx=\"35.21\" ry=\"26.74\"/>\n<text text-anchor=\"middle\" x=\"195.36\" y=\"-30.67\" font-family=\"Times,serif\" font-size=\"14.00\">Name</text>\n<text text-anchor=\"middle\" x=\"195.36\" y=\"-15.67\" font-family=\"Times,serif\" font-size=\"14.00\">a</text>\n</g>\n<!-- 138745567746304&#45;&gt;138745564301056 -->\n<g id=\"edge9\" class=\"edge\">\n<title>138745567746304&#45;&gt;138745564301056</title>\n<path fill=\"none\" stroke=\"black\" d=\"M297.63,-97.43C277.91,-84.02 250.92,-65.66 229.62,-51.17\"/>\n<polygon fill=\"black\" stroke=\"black\" points=\"231.41,-48.16 221.17,-45.43 227.47,-53.95 231.41,-48.16\"/>\n</g>\n<!-- 138745567744144 -->\n<g id=\"node11\" class=\"node\">\n<title>138745567744144</title>\n<ellipse fill=\"none\" stroke=\"black\" cx=\"275.36\" cy=\"-26.87\" rx=\"27\" ry=\"18\"/>\n<text text-anchor=\"middle\" x=\"275.36\" y=\"-23.17\" font-family=\"Times,serif\" font-size=\"14.00\">Add</text>\n</g>\n<!-- 138745567746304&#45;&gt;138745567744144 -->\n<g id=\"edge10\" class=\"edge\">\n<title>138745567746304&#45;&gt;138745567744144</title>\n<path fill=\"none\" stroke=\"black\" d=\"M310.71,-91.17C304.05,-79.25 296.05,-64.92 289.35,-52.92\"/>\n<polygon fill=\"black\" stroke=\"black\" points=\"292.23,-50.91 284.3,-43.88 286.12,-54.32 292.23,-50.91\"/>\n</g>\n<!-- 138745567741360 -->\n<g id=\"node12\" class=\"node\">\n<title>138745567741360</title>\n<ellipse fill=\"none\" stroke=\"black\" cx=\"366.36\" cy=\"-26.87\" rx=\"45.92\" ry=\"26.74\"/>\n<text text-anchor=\"middle\" x=\"366.36\" y=\"-30.67\" font-family=\"Times,serif\" font-size=\"14.00\">Constant</text>\n<text text-anchor=\"middle\" x=\"366.36\" y=\"-15.67\" font-family=\"Times,serif\" font-size=\"14.00\">10</text>\n</g>\n<!-- 138745567746304&#45;&gt;138745567741360 -->\n<g id=\"edge11\" class=\"edge\">\n<title>138745567746304&#45;&gt;138745567741360</title>\n<path fill=\"none\" stroke=\"black\" d=\"M336.28,-90.7C340.53,-81.81 345.41,-71.63 349.97,-62.09\"/>\n<polygon fill=\"black\" stroke=\"black\" points=\"353.24,-63.37 354.4,-52.84 346.93,-60.35 353.24,-63.37\"/>\n</g>\n<!-- 138746260587616 -->\n<g id=\"node14\" class=\"node\">\n<title>138746260587616</title>\n<ellipse fill=\"none\" stroke=\"black\" cx=\"415.36\" cy=\"-116.61\" rx=\"35.21\" ry=\"26.74\"/>\n<text text-anchor=\"middle\" x=\"415.36\" y=\"-120.41\" font-family=\"Times,serif\" font-size=\"14.00\">Name</text>\n<text text-anchor=\"middle\" x=\"415.36\" y=\"-105.41\" font-family=\"Times,serif\" font-size=\"14.00\">c</text>\n</g>\n<!-- 138746260587088&#45;&gt;138746260587616 -->\n<g id=\"edge13\" class=\"edge\">\n<title>138746260587088&#45;&gt;138746260587616</title>\n<path fill=\"none\" stroke=\"black\" d=\"M415.36,-179.37C415.36,-171.88 415.36,-162.79 415.36,-153.91\"/>\n<polygon fill=\"black\" stroke=\"black\" points=\"418.86,-153.69 415.36,-143.69 411.86,-153.69 418.86,-153.69\"/>\n</g>\n<!-- 138746260598896 -->\n<g id=\"node15\" class=\"node\">\n<title>138746260598896</title>\n<ellipse fill=\"none\" stroke=\"black\" cx=\"506.36\" cy=\"-116.61\" rx=\"37.45\" ry=\"26.74\"/>\n<text text-anchor=\"middle\" x=\"506.36\" y=\"-120.41\" font-family=\"Times,serif\" font-size=\"14.00\">BinOp</text>\n<text text-anchor=\"middle\" x=\"506.36\" y=\"-105.41\" font-family=\"Times,serif\" font-size=\"14.00\">Mult</text>\n</g>\n<!-- 138746260587088&#45;&gt;138746260598896 -->\n<g id=\"edge14\" class=\"edge\">\n<title>138746260587088&#45;&gt;138746260598896</title>\n<path fill=\"none\" stroke=\"black\" d=\"M432.47,-181.65C444.55,-171.18 461.07,-156.86 475.42,-144.42\"/>\n<polygon fill=\"black\" stroke=\"black\" points=\"477.87,-146.93 483.13,-137.74 473.28,-141.64 477.87,-146.93\"/>\n</g>\n<!-- 138746260596592 -->\n<g id=\"node16\" class=\"node\">\n<title>138746260596592</title>\n<ellipse fill=\"none\" stroke=\"black\" cx=\"465.36\" cy=\"-26.87\" rx=\"35.21\" ry=\"26.74\"/>\n<text text-anchor=\"middle\" x=\"465.36\" y=\"-30.67\" font-family=\"Times,serif\" font-size=\"14.00\">Name</text>\n<text text-anchor=\"middle\" x=\"465.36\" y=\"-15.67\" font-family=\"Times,serif\" font-size=\"14.00\">a</text>\n</g>\n<!-- 138746260598896&#45;&gt;138746260596592 -->\n<g id=\"edge15\" class=\"edge\">\n<title>138746260598896&#45;&gt;138746260596592</title>\n<path fill=\"none\" stroke=\"black\" d=\"M494.72,-90.7C490.53,-81.73 485.72,-71.46 481.23,-61.85\"/>\n<polygon fill=\"black\" stroke=\"black\" points=\"484.29,-60.11 476.88,-52.54 477.94,-63.08 484.29,-60.11\"/>\n</g>\n<!-- 138746260597360 -->\n<g id=\"node17\" class=\"node\">\n<title>138746260597360</title>\n<ellipse fill=\"none\" stroke=\"black\" cx=\"547.36\" cy=\"-26.87\" rx=\"28.7\" ry=\"18\"/>\n<text text-anchor=\"middle\" x=\"547.36\" y=\"-23.17\" font-family=\"Times,serif\" font-size=\"14.00\">Mult</text>\n</g>\n<!-- 138746260598896&#45;&gt;138746260597360 -->\n<g id=\"edge16\" class=\"edge\">\n<title>138746260598896&#45;&gt;138746260597360</title>\n<path fill=\"none\" stroke=\"black\" d=\"M517.99,-90.7C523.43,-79.07 529.9,-65.22 535.38,-53.5\"/>\n<polygon fill=\"black\" stroke=\"black\" points=\"538.64,-54.78 539.71,-44.24 532.3,-51.82 538.64,-54.78\"/>\n</g>\n<!-- 138746260587040 -->\n<g id=\"node18\" class=\"node\">\n<title>138746260587040</title>\n<ellipse fill=\"none\" stroke=\"black\" cx=\"640.36\" cy=\"-26.87\" rx=\"45.92\" ry=\"26.74\"/>\n<text text-anchor=\"middle\" x=\"640.36\" y=\"-30.67\" font-family=\"Times,serif\" font-size=\"14.00\">Constant</text>\n<text text-anchor=\"middle\" x=\"640.36\" y=\"-15.67\" font-family=\"Times,serif\" font-size=\"14.00\">2</text>\n</g>\n<!-- 138746260598896&#45;&gt;138746260587040 -->\n<g id=\"edge17\" class=\"edge\">\n<title>138746260598896&#45;&gt;138746260587040</title>\n<path fill=\"none\" stroke=\"black\" d=\"M533.47,-97.85C553.19,-84.95 580.14,-67.3 602.05,-52.95\"/>\n<polygon fill=\"black\" stroke=\"black\" points=\"604.03,-55.84 610.48,-47.43 600.2,-49.98 604.03,-55.84\"/>\n</g>\n<!-- 138746260598320 -->\n<g id=\"node20\" class=\"node\">\n<title>138746260598320</title>\n<ellipse fill=\"none\" stroke=\"black\" cx=\"597.36\" cy=\"-116.61\" rx=\"35.21\" ry=\"26.74\"/>\n<text text-anchor=\"middle\" x=\"597.36\" y=\"-120.41\" font-family=\"Times,serif\" font-size=\"14.00\">Name</text>\n<text text-anchor=\"middle\" x=\"597.36\" y=\"-105.41\" font-family=\"Times,serif\" font-size=\"14.00\">c</text>\n</g>\n<!-- 138746260595632&#45;&gt;138746260598320 -->\n<g id=\"edge19\" class=\"edge\">\n<title>138746260595632&#45;&gt;138746260598320</title>\n<path fill=\"none\" stroke=\"black\" d=\"M560.09,-180.14C565.25,-171.48 571.77,-160.54 577.92,-150.23\"/>\n<polygon fill=\"black\" stroke=\"black\" points=\"581.06,-151.8 583.17,-141.41 575.04,-148.21 581.06,-151.8\"/>\n</g>\n</g>\n</svg>\n",
            "text/plain": [
              "<graphviz.graphs.Digraph at 0x7e3038133bb0>"
            ]
          },
          "metadata": {}
        }
      ]
    },
    {
      "cell_type": "markdown",
      "source": [
        "# **Testing SSA to AST for another function**"
      ],
      "metadata": {
        "id": "RYxmdje1QhjW"
      }
    },
    {
      "cell_type": "code",
      "source": [
        "@njit(pipeline_class=GetSSACompiler)\n",
        "def dce_test():\n",
        "    a = 10\n",
        "    b = 20\n",
        "    c = 40\n",
        "    d = c + a\n",
        "    e = d + b\n",
        "    c = a + b\n",
        "    return c"
      ],
      "metadata": {
        "id": "4ey3zg0NO5vp"
      },
      "execution_count": 134,
      "outputs": []
    },
    {
      "cell_type": "code",
      "source": [
        "ssa_statements = []\n",
        "dce_test()\n",
        "func_ast = get_ast(dce_test)\n",
        "ast_viz = visualize_ast(func_ast)\n",
        "#ast.render(\"AST Visualization\", format=\"png\", view=True)\n",
        "display(ast_viz)"
      ],
      "metadata": {
        "colab": {
          "base_uri": "https://localhost:8080/",
          "height": 1000
        },
        "id": "ffaikGd7PL6K",
        "outputId": "6effc571-c4bf-4f3d-8449-eab70c80b10a"
      },
      "execution_count": 135,
      "outputs": [
        {
          "output_type": "stream",
          "name": "stdout",
          "text": [
            "AST Tree: Module(\n",
            "    body=[\n",
            "        FunctionDef(\n",
            "            name='dce_test',\n",
            "            args=arguments(\n",
            "                posonlyargs=[],\n",
            "                args=[],\n",
            "                kwonlyargs=[],\n",
            "                kw_defaults=[],\n",
            "                defaults=[]),\n",
            "            body=[\n",
            "                Assign(\n",
            "                    targets=[\n",
            "                        Name(id='a', ctx=Store())],\n",
            "                    value=Constant(value=10)),\n",
            "                Assign(\n",
            "                    targets=[\n",
            "                        Name(id='b', ctx=Store())],\n",
            "                    value=Constant(value=20)),\n",
            "                Assign(\n",
            "                    targets=[\n",
            "                        Name(id='c', ctx=Store())],\n",
            "                    value=Constant(value=40)),\n",
            "                Assign(\n",
            "                    targets=[\n",
            "                        Name(id='d', ctx=Store())],\n",
            "                    value=BinOp(\n",
            "                        left=Name(id='c', ctx=Load()),\n",
            "                        op=Add(),\n",
            "                        right=Name(id='a', ctx=Load()))),\n",
            "                Assign(\n",
            "                    targets=[\n",
            "                        Name(id='e', ctx=Store())],\n",
            "                    value=BinOp(\n",
            "                        left=Name(id='d', ctx=Load()),\n",
            "                        op=Add(),\n",
            "                        right=Name(id='b', ctx=Load()))),\n",
            "                Assign(\n",
            "                    targets=[\n",
            "                        Name(id='c', ctx=Store())],\n",
            "                    value=BinOp(\n",
            "                        left=Name(id='a', ctx=Load()),\n",
            "                        op=Add(),\n",
            "                        right=Name(id='b', ctx=Load()))),\n",
            "                Return(\n",
            "                    value=Name(id='c', ctx=Load()))],\n",
            "            decorator_list=[\n",
            "                Call(\n",
            "                    func=Name(id='njit', ctx=Load()),\n",
            "                    args=[],\n",
            "                    keywords=[\n",
            "                        keyword(\n",
            "                            arg='pipeline_class',\n",
            "                            value=Name(id='GetSSACompiler', ctx=Load()))])])],\n",
            "    type_ignores=[])\n"
          ]
        },
        {
          "output_type": "display_data",
          "data": {
            "image/svg+xml": "<?xml version=\"1.0\" encoding=\"UTF-8\" standalone=\"no\"?>\n<!DOCTYPE svg PUBLIC \"-//W3C//DTD SVG 1.1//EN\"\n \"http://www.w3.org/Graphics/SVG/1.1/DTD/svg11.dtd\">\n<!-- Generated by graphviz version 2.43.0 (0)\n -->\n<!-- Title: %3 Pages: 1 -->\n<svg width=\"1425pt\" height=\"367pt\"\n viewBox=\"0.00 0.00 1425.32 367.48\" xmlns=\"http://www.w3.org/2000/svg\" xmlns:xlink=\"http://www.w3.org/1999/xlink\">\n<g id=\"graph0\" class=\"graph\" transform=\"scale(1 1) rotate(0) translate(4 363.48)\">\n<title>%3</title>\n<polygon fill=\"white\" stroke=\"transparent\" points=\"-4,4 -4,-363.48 1421.32,-363.48 1421.32,4 -4,4\"/>\n<!-- 138745565257136 -->\n<g id=\"node1\" class=\"node\">\n<title>138745565257136</title>\n<ellipse fill=\"none\" stroke=\"black\" cx=\"676.96\" cy=\"-341.48\" rx=\"38.19\" ry=\"18\"/>\n<text text-anchor=\"middle\" x=\"676.96\" y=\"-337.78\" font-family=\"Times,serif\" font-size=\"14.00\">Module</text>\n</g>\n<!-- 138745565254400 -->\n<g id=\"node2\" class=\"node\">\n<title>138745565254400</title>\n<ellipse fill=\"none\" stroke=\"black\" cx=\"676.96\" cy=\"-269.48\" rx=\"55.49\" ry=\"18\"/>\n<text text-anchor=\"middle\" x=\"676.96\" y=\"-265.78\" font-family=\"Times,serif\" font-size=\"14.00\">FunctionDef</text>\n</g>\n<!-- 138745565257136&#45;&gt;138745565254400 -->\n<g id=\"edge1\" class=\"edge\">\n<title>138745565257136&#45;&gt;138745565254400</title>\n<path fill=\"none\" stroke=\"black\" d=\"M676.96,-323.18C676.96,-315.46 676.96,-306.19 676.96,-297.59\"/>\n<polygon fill=\"black\" stroke=\"black\" points=\"680.46,-297.58 676.96,-287.58 673.46,-297.58 680.46,-297.58\"/>\n</g>\n<!-- 138745565264528 -->\n<g id=\"node3\" class=\"node\">\n<title>138745565264528</title>\n<ellipse fill=\"none\" stroke=\"black\" cx=\"98.96\" cy=\"-197.48\" rx=\"48.19\" ry=\"18\"/>\n<text text-anchor=\"middle\" x=\"98.96\" y=\"-193.78\" font-family=\"Times,serif\" font-size=\"14.00\">arguments</text>\n</g>\n<!-- 138745565254400&#45;&gt;138745565264528 -->\n<g id=\"edge2\" class=\"edge\">\n<title>138745565254400&#45;&gt;138745565264528</title>\n<path fill=\"none\" stroke=\"black\" d=\"M622.46,-266.32C527.09,-261.78 324.07,-248.79 155.96,-215.48 151.86,-214.67 147.63,-213.69 143.41,-212.61\"/>\n<polygon fill=\"black\" stroke=\"black\" points=\"144.24,-209.21 133.67,-209.96 142.4,-215.96 144.24,-209.21\"/>\n</g>\n<!-- 138745565251328 -->\n<g id=\"node4\" class=\"node\">\n<title>138745565251328</title>\n<ellipse fill=\"none\" stroke=\"black\" cx=\"199.96\" cy=\"-197.48\" rx=\"35.19\" ry=\"18\"/>\n<text text-anchor=\"middle\" x=\"199.96\" y=\"-193.78\" font-family=\"Times,serif\" font-size=\"14.00\">Assign</text>\n</g>\n<!-- 138745565254400&#45;&gt;138745565251328 -->\n<g id=\"edge3\" class=\"edge\">\n<title>138745565254400&#45;&gt;138745565251328</title>\n<path fill=\"none\" stroke=\"black\" d=\"M626.75,-261.94C554.27,-252.39 416.16,-233.76 298.96,-215.48 280.38,-212.58 259.89,-209.11 242.39,-206.06\"/>\n<polygon fill=\"black\" stroke=\"black\" points=\"242.92,-202.6 232.47,-204.32 241.72,-209.5 242.92,-202.6\"/>\n</g>\n<!-- 138745565257760 -->\n<g id=\"node7\" class=\"node\">\n<title>138745565257760</title>\n<ellipse fill=\"none\" stroke=\"black\" cx=\"342.96\" cy=\"-197.48\" rx=\"35.19\" ry=\"18\"/>\n<text text-anchor=\"middle\" x=\"342.96\" y=\"-193.78\" font-family=\"Times,serif\" font-size=\"14.00\">Assign</text>\n</g>\n<!-- 138745565254400&#45;&gt;138745565257760 -->\n<g id=\"edge6\" class=\"edge\">\n<title>138745565254400&#45;&gt;138745565257760</title>\n<path fill=\"none\" stroke=\"black\" d=\"M631.92,-259.04C566.98,-245.43 447.94,-220.48 384.83,-207.25\"/>\n<polygon fill=\"black\" stroke=\"black\" points=\"385.33,-203.78 374.82,-205.16 383.89,-210.63 385.33,-203.78\"/>\n</g>\n<!-- 138745565253008 -->\n<g id=\"node10\" class=\"node\">\n<title>138745565253008</title>\n<ellipse fill=\"none\" stroke=\"black\" cx=\"540.96\" cy=\"-197.48\" rx=\"35.19\" ry=\"18\"/>\n<text text-anchor=\"middle\" x=\"540.96\" y=\"-193.78\" font-family=\"Times,serif\" font-size=\"14.00\">Assign</text>\n</g>\n<!-- 138745565254400&#45;&gt;138745565253008 -->\n<g id=\"edge9\" class=\"edge\">\n<title>138745565254400&#45;&gt;138745565253008</title>\n<path fill=\"none\" stroke=\"black\" d=\"M648.78,-253.98C627.04,-242.78 596.9,-227.27 574.02,-215.5\"/>\n<polygon fill=\"black\" stroke=\"black\" points=\"575.51,-212.32 565.01,-210.86 572.3,-218.55 575.51,-212.32\"/>\n</g>\n<!-- 138745565253296 -->\n<g id=\"node13\" class=\"node\">\n<title>138745565253296</title>\n<ellipse fill=\"none\" stroke=\"black\" cx=\"676.96\" cy=\"-197.48\" rx=\"35.19\" ry=\"18\"/>\n<text text-anchor=\"middle\" x=\"676.96\" y=\"-193.78\" font-family=\"Times,serif\" font-size=\"14.00\">Assign</text>\n</g>\n<!-- 138745565254400&#45;&gt;138745565253296 -->\n<g id=\"edge12\" class=\"edge\">\n<title>138745565254400&#45;&gt;138745565253296</title>\n<path fill=\"none\" stroke=\"black\" d=\"M676.96,-251.18C676.96,-243.46 676.96,-234.19 676.96,-225.59\"/>\n<polygon fill=\"black\" stroke=\"black\" points=\"680.46,-225.58 676.96,-215.58 673.46,-225.58 680.46,-225.58\"/>\n</g>\n<!-- 138745111406208 -->\n<g id=\"node19\" class=\"node\">\n<title>138745111406208</title>\n<ellipse fill=\"none\" stroke=\"black\" cx=\"811.96\" cy=\"-197.48\" rx=\"35.19\" ry=\"18\"/>\n<text text-anchor=\"middle\" x=\"811.96\" y=\"-193.78\" font-family=\"Times,serif\" font-size=\"14.00\">Assign</text>\n</g>\n<!-- 138745565254400&#45;&gt;138745111406208 -->\n<g id=\"edge18\" class=\"edge\">\n<title>138745565254400&#45;&gt;138745111406208</title>\n<path fill=\"none\" stroke=\"black\" d=\"M705.26,-253.81C726.87,-242.6 756.68,-227.14 779.3,-215.41\"/>\n<polygon fill=\"black\" stroke=\"black\" points=\"780.94,-218.51 788.2,-210.8 777.72,-212.3 780.94,-218.51\"/>\n</g>\n<!-- 138745566729200 -->\n<g id=\"node24\" class=\"node\">\n<title>138745566729200</title>\n<ellipse fill=\"none\" stroke=\"black\" cx=\"993.96\" cy=\"-197.48\" rx=\"35.19\" ry=\"18\"/>\n<text text-anchor=\"middle\" x=\"993.96\" y=\"-193.78\" font-family=\"Times,serif\" font-size=\"14.00\">Assign</text>\n</g>\n<!-- 138745565254400&#45;&gt;138745566729200 -->\n<g id=\"edge24\" class=\"edge\">\n<title>138745565254400&#45;&gt;138745566729200</title>\n<path fill=\"none\" stroke=\"black\" d=\"M721.37,-258.67C782.74,-245.12 892.66,-220.85 952.45,-207.65\"/>\n<polygon fill=\"black\" stroke=\"black\" points=\"953.3,-211.04 962.31,-205.47 951.79,-204.21 953.3,-211.04\"/>\n</g>\n<!-- 138745566732944 -->\n<g id=\"node29\" class=\"node\">\n<title>138745566732944</title>\n<ellipse fill=\"none\" stroke=\"black\" cx=\"1128.96\" cy=\"-197.48\" rx=\"34.39\" ry=\"18\"/>\n<text text-anchor=\"middle\" x=\"1128.96\" y=\"-193.78\" font-family=\"Times,serif\" font-size=\"14.00\">Return</text>\n</g>\n<!-- 138745565254400&#45;&gt;138745566732944 -->\n<g id=\"edge30\" class=\"edge\">\n<title>138745565254400&#45;&gt;138745566732944</title>\n<path fill=\"none\" stroke=\"black\" d=\"M726.99,-261.76C796.76,-252.25 927.21,-233.95 1037.96,-215.48 1053.93,-212.82 1071.43,-209.62 1086.77,-206.72\"/>\n<polygon fill=\"black\" stroke=\"black\" points=\"1087.84,-210.07 1097.01,-204.76 1086.53,-203.2 1087.84,-210.07\"/>\n</g>\n<!-- 138745111566496 -->\n<g id=\"node31\" class=\"node\">\n<title>138745111566496</title>\n<ellipse fill=\"none\" stroke=\"black\" cx=\"1286.96\" cy=\"-197.48\" rx=\"27\" ry=\"18\"/>\n<text text-anchor=\"middle\" x=\"1286.96\" y=\"-193.78\" font-family=\"Times,serif\" font-size=\"14.00\">Call</text>\n</g>\n<!-- 138745565254400&#45;&gt;138745111566496 -->\n<g id=\"edge32\" class=\"edge\">\n<title>138745565254400&#45;&gt;138745111566496</title>\n<path fill=\"none\" stroke=\"black\" d=\"M729.43,-263.56C819.89,-254.92 1010.99,-235.99 1171.96,-215.48 1198.41,-212.11 1228.17,-207.69 1250.8,-204.21\"/>\n<polygon fill=\"black\" stroke=\"black\" points=\"1251.62,-207.62 1260.97,-202.63 1250.55,-200.7 1251.62,-207.62\"/>\n</g>\n<!-- 138745565254832 -->\n<g id=\"node5\" class=\"node\">\n<title>138745565254832</title>\n<ellipse fill=\"none\" stroke=\"black\" cx=\"144.96\" cy=\"-116.61\" rx=\"35.21\" ry=\"26.74\"/>\n<text text-anchor=\"middle\" x=\"144.96\" y=\"-120.41\" font-family=\"Times,serif\" font-size=\"14.00\">Name</text>\n<text text-anchor=\"middle\" x=\"144.96\" y=\"-105.41\" font-family=\"Times,serif\" font-size=\"14.00\">a</text>\n</g>\n<!-- 138745565251328&#45;&gt;138745565254832 -->\n<g id=\"edge4\" class=\"edge\">\n<title>138745565251328&#45;&gt;138745565254832</title>\n<path fill=\"none\" stroke=\"black\" d=\"M188.57,-180.14C182.31,-171.17 174.34,-159.73 166.92,-149.1\"/>\n<polygon fill=\"black\" stroke=\"black\" points=\"169.73,-147.01 161.14,-140.81 163.99,-151.02 169.73,-147.01\"/>\n</g>\n<!-- 138745565255888 -->\n<g id=\"node6\" class=\"node\">\n<title>138745565255888</title>\n<ellipse fill=\"none\" stroke=\"black\" cx=\"45.96\" cy=\"-116.61\" rx=\"45.92\" ry=\"26.74\"/>\n<text text-anchor=\"middle\" x=\"45.96\" y=\"-120.41\" font-family=\"Times,serif\" font-size=\"14.00\">Constant</text>\n<text text-anchor=\"middle\" x=\"45.96\" y=\"-105.41\" font-family=\"Times,serif\" font-size=\"14.00\">10</text>\n</g>\n<!-- 138745565251328&#45;&gt;138745565255888 -->\n<g id=\"edge5\" class=\"edge\">\n<title>138745565251328&#45;&gt;138745565255888</title>\n<path fill=\"none\" stroke=\"black\" d=\"M175.9,-184.16C152.72,-172.28 117.13,-154.06 89.06,-139.68\"/>\n<polygon fill=\"black\" stroke=\"black\" points=\"90.35,-136.41 79.85,-134.97 87.16,-142.64 90.35,-136.41\"/>\n</g>\n<!-- 138745565263664 -->\n<g id=\"node8\" class=\"node\">\n<title>138745565263664</title>\n<ellipse fill=\"none\" stroke=\"black\" cx=\"342.96\" cy=\"-116.61\" rx=\"35.21\" ry=\"26.74\"/>\n<text text-anchor=\"middle\" x=\"342.96\" y=\"-120.41\" font-family=\"Times,serif\" font-size=\"14.00\">Name</text>\n<text text-anchor=\"middle\" x=\"342.96\" y=\"-105.41\" font-family=\"Times,serif\" font-size=\"14.00\">b</text>\n</g>\n<!-- 138745565257760&#45;&gt;138745565263664 -->\n<g id=\"edge7\" class=\"edge\">\n<title>138745565257760&#45;&gt;138745565263664</title>\n<path fill=\"none\" stroke=\"black\" d=\"M342.96,-179.37C342.96,-171.88 342.96,-162.79 342.96,-153.91\"/>\n<polygon fill=\"black\" stroke=\"black\" points=\"346.46,-153.69 342.96,-143.69 339.46,-153.69 346.46,-153.69\"/>\n</g>\n<!-- 138745565253632 -->\n<g id=\"node9\" class=\"node\">\n<title>138745565253632</title>\n<ellipse fill=\"none\" stroke=\"black\" cx=\"243.96\" cy=\"-116.61\" rx=\"45.92\" ry=\"26.74\"/>\n<text text-anchor=\"middle\" x=\"243.96\" y=\"-120.41\" font-family=\"Times,serif\" font-size=\"14.00\">Constant</text>\n<text text-anchor=\"middle\" x=\"243.96\" y=\"-105.41\" font-family=\"Times,serif\" font-size=\"14.00\">20</text>\n</g>\n<!-- 138745565257760&#45;&gt;138745565253632 -->\n<g id=\"edge8\" class=\"edge\">\n<title>138745565257760&#45;&gt;138745565253632</title>\n<path fill=\"none\" stroke=\"black\" d=\"M324.8,-182.01C311.87,-171.71 294.1,-157.55 278.51,-145.13\"/>\n<polygon fill=\"black\" stroke=\"black\" points=\"280.59,-142.32 270.59,-138.82 276.23,-147.79 280.59,-142.32\"/>\n</g>\n<!-- 138745565252864 -->\n<g id=\"node11\" class=\"node\">\n<title>138745565252864</title>\n<ellipse fill=\"none\" stroke=\"black\" cx=\"540.96\" cy=\"-116.61\" rx=\"35.21\" ry=\"26.74\"/>\n<text text-anchor=\"middle\" x=\"540.96\" y=\"-120.41\" font-family=\"Times,serif\" font-size=\"14.00\">Name</text>\n<text text-anchor=\"middle\" x=\"540.96\" y=\"-105.41\" font-family=\"Times,serif\" font-size=\"14.00\">c</text>\n</g>\n<!-- 138745565253008&#45;&gt;138745565252864 -->\n<g id=\"edge10\" class=\"edge\">\n<title>138745565253008&#45;&gt;138745565252864</title>\n<path fill=\"none\" stroke=\"black\" d=\"M540.96,-179.37C540.96,-171.88 540.96,-162.79 540.96,-153.91\"/>\n<polygon fill=\"black\" stroke=\"black\" points=\"544.46,-153.69 540.96,-143.69 537.46,-153.69 544.46,-153.69\"/>\n</g>\n<!-- 138745565257184 -->\n<g id=\"node12\" class=\"node\">\n<title>138745565257184</title>\n<ellipse fill=\"none\" stroke=\"black\" cx=\"441.96\" cy=\"-116.61\" rx=\"45.92\" ry=\"26.74\"/>\n<text text-anchor=\"middle\" x=\"441.96\" y=\"-120.41\" font-family=\"Times,serif\" font-size=\"14.00\">Constant</text>\n<text text-anchor=\"middle\" x=\"441.96\" y=\"-105.41\" font-family=\"Times,serif\" font-size=\"14.00\">40</text>\n</g>\n<!-- 138745565253008&#45;&gt;138745565257184 -->\n<g id=\"edge11\" class=\"edge\">\n<title>138745565253008&#45;&gt;138745565257184</title>\n<path fill=\"none\" stroke=\"black\" d=\"M522.8,-182.01C509.87,-171.71 492.1,-157.55 476.51,-145.13\"/>\n<polygon fill=\"black\" stroke=\"black\" points=\"478.59,-142.32 468.59,-138.82 474.23,-147.79 478.59,-142.32\"/>\n</g>\n<!-- 138745565254976 -->\n<g id=\"node14\" class=\"node\">\n<title>138745565254976</title>\n<ellipse fill=\"none\" stroke=\"black\" cx=\"722.96\" cy=\"-116.61\" rx=\"35.21\" ry=\"26.74\"/>\n<text text-anchor=\"middle\" x=\"722.96\" y=\"-120.41\" font-family=\"Times,serif\" font-size=\"14.00\">Name</text>\n<text text-anchor=\"middle\" x=\"722.96\" y=\"-105.41\" font-family=\"Times,serif\" font-size=\"14.00\">d</text>\n</g>\n<!-- 138745565253296&#45;&gt;138745565254976 -->\n<g id=\"edge13\" class=\"edge\">\n<title>138745565253296&#45;&gt;138745565254976</title>\n<path fill=\"none\" stroke=\"black\" d=\"M686.49,-180.14C691.54,-171.48 697.92,-160.54 703.94,-150.23\"/>\n<polygon fill=\"black\" stroke=\"black\" points=\"707.06,-151.82 709.08,-141.41 701.02,-148.29 707.06,-151.82\"/>\n</g>\n<!-- 138745111406832 -->\n<g id=\"node15\" class=\"node\">\n<title>138745111406832</title>\n<ellipse fill=\"none\" stroke=\"black\" cx=\"631.96\" cy=\"-116.61\" rx=\"37.45\" ry=\"26.74\"/>\n<text text-anchor=\"middle\" x=\"631.96\" y=\"-120.41\" font-family=\"Times,serif\" font-size=\"14.00\">BinOp</text>\n<text text-anchor=\"middle\" x=\"631.96\" y=\"-105.41\" font-family=\"Times,serif\" font-size=\"14.00\">Add</text>\n</g>\n<!-- 138745565253296&#45;&gt;138745111406832 -->\n<g id=\"edge14\" class=\"edge\">\n<title>138745565253296&#45;&gt;138745111406832</title>\n<path fill=\"none\" stroke=\"black\" d=\"M667.42,-179.75C662.6,-171.31 656.58,-160.75 650.87,-150.75\"/>\n<polygon fill=\"black\" stroke=\"black\" points=\"653.76,-148.75 645.76,-141.8 647.68,-152.22 653.76,-148.75\"/>\n</g>\n<!-- 138745111409424 -->\n<g id=\"node16\" class=\"node\">\n<title>138745111409424</title>\n<ellipse fill=\"none\" stroke=\"black\" cx=\"586.96\" cy=\"-26.87\" rx=\"35.21\" ry=\"26.74\"/>\n<text text-anchor=\"middle\" x=\"586.96\" y=\"-30.67\" font-family=\"Times,serif\" font-size=\"14.00\">Name</text>\n<text text-anchor=\"middle\" x=\"586.96\" y=\"-15.67\" font-family=\"Times,serif\" font-size=\"14.00\">c</text>\n</g>\n<!-- 138745111406832&#45;&gt;138745111409424 -->\n<g id=\"edge15\" class=\"edge\">\n<title>138745111406832&#45;&gt;138745111409424</title>\n<path fill=\"none\" stroke=\"black\" d=\"M619.43,-91.17C614.7,-81.95 609.23,-71.29 604.15,-61.38\"/>\n<polygon fill=\"black\" stroke=\"black\" points=\"607.11,-59.48 599.43,-52.18 600.88,-62.67 607.11,-59.48\"/>\n</g>\n<!-- 138746686162064 -->\n<g id=\"node17\" class=\"node\">\n<title>138746686162064</title>\n<ellipse fill=\"none\" stroke=\"black\" cx=\"814.96\" cy=\"-26.87\" rx=\"27\" ry=\"18\"/>\n<text text-anchor=\"middle\" x=\"814.96\" y=\"-23.17\" font-family=\"Times,serif\" font-size=\"14.00\">Add</text>\n</g>\n<!-- 138745111406832&#45;&gt;138746686162064 -->\n<g id=\"edge16\" class=\"edge\">\n<title>138745111406832&#45;&gt;138746686162064</title>\n<path fill=\"none\" stroke=\"black\" d=\"M660.86,-99.25C666.8,-96.02 673.05,-92.71 678.96,-89.74 714.22,-72.05 755.58,-53.54 783.35,-41.43\"/>\n<polygon fill=\"black\" stroke=\"black\" points=\"784.79,-44.62 792.57,-37.43 782.01,-38.2 784.79,-44.62\"/>\n</g>\n<!-- 138745111408416 -->\n<g id=\"node18\" class=\"node\">\n<title>138745111408416</title>\n<ellipse fill=\"none\" stroke=\"black\" cx=\"675.96\" cy=\"-26.87\" rx=\"35.21\" ry=\"26.74\"/>\n<text text-anchor=\"middle\" x=\"675.96\" y=\"-30.67\" font-family=\"Times,serif\" font-size=\"14.00\">Name</text>\n<text text-anchor=\"middle\" x=\"675.96\" y=\"-15.67\" font-family=\"Times,serif\" font-size=\"14.00\">a</text>\n</g>\n<!-- 138745111406832&#45;&gt;138745111408416 -->\n<g id=\"edge17\" class=\"edge\">\n<title>138745111406832&#45;&gt;138745111408416</title>\n<path fill=\"none\" stroke=\"black\" d=\"M644.22,-91.17C648.84,-81.95 654.19,-71.29 659.16,-61.38\"/>\n<polygon fill=\"black\" stroke=\"black\" points=\"662.42,-62.69 663.77,-52.18 656.16,-59.55 662.42,-62.69\"/>\n</g>\n<!-- 138745111411824 -->\n<g id=\"node20\" class=\"node\">\n<title>138745111411824</title>\n<ellipse fill=\"none\" stroke=\"black\" cx=\"811.96\" cy=\"-116.61\" rx=\"35.21\" ry=\"26.74\"/>\n<text text-anchor=\"middle\" x=\"811.96\" y=\"-120.41\" font-family=\"Times,serif\" font-size=\"14.00\">Name</text>\n<text text-anchor=\"middle\" x=\"811.96\" y=\"-105.41\" font-family=\"Times,serif\" font-size=\"14.00\">e</text>\n</g>\n<!-- 138745111406208&#45;&gt;138745111411824 -->\n<g id=\"edge19\" class=\"edge\">\n<title>138745111406208&#45;&gt;138745111411824</title>\n<path fill=\"none\" stroke=\"black\" d=\"M811.96,-179.37C811.96,-171.88 811.96,-162.79 811.96,-153.91\"/>\n<polygon fill=\"black\" stroke=\"black\" points=\"815.46,-153.69 811.96,-143.69 808.46,-153.69 815.46,-153.69\"/>\n</g>\n<!-- 138745566725264 -->\n<g id=\"node21\" class=\"node\">\n<title>138745566725264</title>\n<ellipse fill=\"none\" stroke=\"black\" cx=\"902.96\" cy=\"-116.61\" rx=\"37.45\" ry=\"26.74\"/>\n<text text-anchor=\"middle\" x=\"902.96\" y=\"-120.41\" font-family=\"Times,serif\" font-size=\"14.00\">BinOp</text>\n<text text-anchor=\"middle\" x=\"902.96\" y=\"-105.41\" font-family=\"Times,serif\" font-size=\"14.00\">Add</text>\n</g>\n<!-- 138745111406208&#45;&gt;138745566725264 -->\n<g id=\"edge20\" class=\"edge\">\n<title>138745111406208&#45;&gt;138745566725264</title>\n<path fill=\"none\" stroke=\"black\" d=\"M829.08,-181.65C841.15,-171.18 857.67,-156.86 872.03,-144.42\"/>\n<polygon fill=\"black\" stroke=\"black\" points=\"874.47,-146.93 879.74,-137.74 869.89,-141.64 874.47,-146.93\"/>\n</g>\n<!-- 138745566725264&#45;&gt;138746686162064 -->\n<g id=\"edge22\" class=\"edge\">\n<title>138745566725264&#45;&gt;138746686162064</title>\n<path fill=\"none\" stroke=\"black\" d=\"M881.66,-94.37C868.01,-80.76 850.35,-63.15 836.63,-49.48\"/>\n<polygon fill=\"black\" stroke=\"black\" points=\"839.02,-46.91 829.47,-42.33 834.08,-51.87 839.02,-46.91\"/>\n</g>\n<!-- 138745566724496 -->\n<g id=\"node22\" class=\"node\">\n<title>138745566724496</title>\n<ellipse fill=\"none\" stroke=\"black\" cx=\"894.96\" cy=\"-26.87\" rx=\"35.21\" ry=\"26.74\"/>\n<text text-anchor=\"middle\" x=\"894.96\" y=\"-30.67\" font-family=\"Times,serif\" font-size=\"14.00\">Name</text>\n<text text-anchor=\"middle\" x=\"894.96\" y=\"-15.67\" font-family=\"Times,serif\" font-size=\"14.00\">d</text>\n</g>\n<!-- 138745566725264&#45;&gt;138745566724496 -->\n<g id=\"edge21\" class=\"edge\">\n<title>138745566725264&#45;&gt;138745566724496</title>\n<path fill=\"none\" stroke=\"black\" d=\"M900.6,-89.76C899.87,-81.71 899.05,-72.68 898.26,-64.06\"/>\n<polygon fill=\"black\" stroke=\"black\" points=\"901.72,-63.48 897.33,-53.84 894.75,-64.12 901.72,-63.48\"/>\n</g>\n<!-- 138745566733904 -->\n<g id=\"node23\" class=\"node\">\n<title>138745566733904</title>\n<ellipse fill=\"none\" stroke=\"black\" cx=\"983.96\" cy=\"-26.87\" rx=\"35.21\" ry=\"26.74\"/>\n<text text-anchor=\"middle\" x=\"983.96\" y=\"-30.67\" font-family=\"Times,serif\" font-size=\"14.00\">Name</text>\n<text text-anchor=\"middle\" x=\"983.96\" y=\"-15.67\" font-family=\"Times,serif\" font-size=\"14.00\">b</text>\n</g>\n<!-- 138745566725264&#45;&gt;138745566733904 -->\n<g id=\"edge23\" class=\"edge\">\n<title>138745566725264&#45;&gt;138745566733904</title>\n<path fill=\"none\" stroke=\"black\" d=\"M923.4,-93.47C933.63,-82.39 946.14,-68.84 957.13,-56.94\"/>\n<polygon fill=\"black\" stroke=\"black\" points=\"959.88,-59.12 964.09,-49.4 954.73,-54.37 959.88,-59.12\"/>\n</g>\n<!-- 138745566733664 -->\n<g id=\"node25\" class=\"node\">\n<title>138745566733664</title>\n<ellipse fill=\"none\" stroke=\"black\" cx=\"993.96\" cy=\"-116.61\" rx=\"35.21\" ry=\"26.74\"/>\n<text text-anchor=\"middle\" x=\"993.96\" y=\"-120.41\" font-family=\"Times,serif\" font-size=\"14.00\">Name</text>\n<text text-anchor=\"middle\" x=\"993.96\" y=\"-105.41\" font-family=\"Times,serif\" font-size=\"14.00\">c</text>\n</g>\n<!-- 138745566729200&#45;&gt;138745566733664 -->\n<g id=\"edge25\" class=\"edge\">\n<title>138745566729200&#45;&gt;138745566733664</title>\n<path fill=\"none\" stroke=\"black\" d=\"M993.96,-179.37C993.96,-171.88 993.96,-162.79 993.96,-153.91\"/>\n<polygon fill=\"black\" stroke=\"black\" points=\"997.46,-153.69 993.96,-143.69 990.46,-153.69 997.46,-153.69\"/>\n</g>\n<!-- 138745566732848 -->\n<g id=\"node26\" class=\"node\">\n<title>138745566732848</title>\n<ellipse fill=\"none\" stroke=\"black\" cx=\"1084.96\" cy=\"-116.61\" rx=\"37.45\" ry=\"26.74\"/>\n<text text-anchor=\"middle\" x=\"1084.96\" y=\"-120.41\" font-family=\"Times,serif\" font-size=\"14.00\">BinOp</text>\n<text text-anchor=\"middle\" x=\"1084.96\" y=\"-105.41\" font-family=\"Times,serif\" font-size=\"14.00\">Add</text>\n</g>\n<!-- 138745566729200&#45;&gt;138745566732848 -->\n<g id=\"edge26\" class=\"edge\">\n<title>138745566729200&#45;&gt;138745566732848</title>\n<path fill=\"none\" stroke=\"black\" d=\"M1011.08,-181.65C1023.15,-171.18 1039.67,-156.86 1054.03,-144.42\"/>\n<polygon fill=\"black\" stroke=\"black\" points=\"1056.47,-146.93 1061.74,-137.74 1051.89,-141.64 1056.47,-146.93\"/>\n</g>\n<!-- 138745566732848&#45;&gt;138746686162064 -->\n<g id=\"edge28\" class=\"edge\">\n<title>138745566732848&#45;&gt;138746686162064</title>\n<path fill=\"none\" stroke=\"black\" d=\"M1057.05,-98.39C1050.93,-95.15 1044.36,-92.05 1037.96,-89.74 958.36,-60.98 928.7,-87.22 850.96,-53.74 846.99,-52.03 843.02,-49.82 839.25,-47.41\"/>\n<polygon fill=\"black\" stroke=\"black\" points=\"841.1,-44.44 830.9,-41.59 837.1,-50.18 841.1,-44.44\"/>\n</g>\n<!-- 138745566732272 -->\n<g id=\"node27\" class=\"node\">\n<title>138745566732272</title>\n<ellipse fill=\"none\" stroke=\"black\" cx=\"1072.96\" cy=\"-26.87\" rx=\"35.21\" ry=\"26.74\"/>\n<text text-anchor=\"middle\" x=\"1072.96\" y=\"-30.67\" font-family=\"Times,serif\" font-size=\"14.00\">Name</text>\n<text text-anchor=\"middle\" x=\"1072.96\" y=\"-15.67\" font-family=\"Times,serif\" font-size=\"14.00\">a</text>\n</g>\n<!-- 138745566732848&#45;&gt;138745566732272 -->\n<g id=\"edge27\" class=\"edge\">\n<title>138745566732848&#45;&gt;138745566732272</title>\n<path fill=\"none\" stroke=\"black\" d=\"M1081.43,-89.76C1080.31,-81.62 1079.06,-72.48 1077.87,-63.77\"/>\n<polygon fill=\"black\" stroke=\"black\" points=\"1081.34,-63.27 1076.51,-53.84 1074.4,-64.22 1081.34,-63.27\"/>\n</g>\n<!-- 138745566727472 -->\n<g id=\"node28\" class=\"node\">\n<title>138745566727472</title>\n<ellipse fill=\"none\" stroke=\"black\" cx=\"1161.96\" cy=\"-26.87\" rx=\"35.21\" ry=\"26.74\"/>\n<text text-anchor=\"middle\" x=\"1161.96\" y=\"-30.67\" font-family=\"Times,serif\" font-size=\"14.00\">Name</text>\n<text text-anchor=\"middle\" x=\"1161.96\" y=\"-15.67\" font-family=\"Times,serif\" font-size=\"14.00\">b</text>\n</g>\n<!-- 138745566732848&#45;&gt;138745566727472 -->\n<g id=\"edge29\" class=\"edge\">\n<title>138745566732848&#45;&gt;138745566727472</title>\n<path fill=\"none\" stroke=\"black\" d=\"M1104.39,-93.47C1113.95,-82.58 1125.6,-69.3 1135.92,-57.55\"/>\n<polygon fill=\"black\" stroke=\"black\" points=\"1138.84,-59.52 1142.8,-49.7 1133.58,-54.91 1138.84,-59.52\"/>\n</g>\n<!-- 138745111571632 -->\n<g id=\"node30\" class=\"node\">\n<title>138745111571632</title>\n<ellipse fill=\"none\" stroke=\"black\" cx=\"1175.96\" cy=\"-116.61\" rx=\"35.21\" ry=\"26.74\"/>\n<text text-anchor=\"middle\" x=\"1175.96\" y=\"-120.41\" font-family=\"Times,serif\" font-size=\"14.00\">Name</text>\n<text text-anchor=\"middle\" x=\"1175.96\" y=\"-105.41\" font-family=\"Times,serif\" font-size=\"14.00\">c</text>\n</g>\n<!-- 138745566732944&#45;&gt;138745111571632 -->\n<g id=\"edge31\" class=\"edge\">\n<title>138745566732944&#45;&gt;138745111571632</title>\n<path fill=\"none\" stroke=\"black\" d=\"M1138.7,-180.14C1143.86,-171.48 1150.38,-160.54 1156.52,-150.23\"/>\n<polygon fill=\"black\" stroke=\"black\" points=\"1159.66,-151.8 1161.78,-141.41 1153.65,-148.21 1159.66,-151.8\"/>\n</g>\n<!-- 138745111560496 -->\n<g id=\"node32\" class=\"node\">\n<title>138745111560496</title>\n<ellipse fill=\"none\" stroke=\"black\" cx=\"1381.96\" cy=\"-116.61\" rx=\"35.21\" ry=\"26.74\"/>\n<text text-anchor=\"middle\" x=\"1381.96\" y=\"-120.41\" font-family=\"Times,serif\" font-size=\"14.00\">Name</text>\n<text text-anchor=\"middle\" x=\"1381.96\" y=\"-105.41\" font-family=\"Times,serif\" font-size=\"14.00\">njit</text>\n</g>\n<!-- 138745111566496&#45;&gt;138745111560496 -->\n<g id=\"edge33\" class=\"edge\">\n<title>138745111566496&#45;&gt;138745111560496</title>\n<path fill=\"none\" stroke=\"black\" d=\"M1303.51,-182.74C1316.46,-171.99 1334.84,-156.73 1350.55,-143.69\"/>\n<polygon fill=\"black\" stroke=\"black\" points=\"1353.03,-146.18 1358.49,-137.1 1348.56,-140.79 1353.03,-146.18\"/>\n</g>\n<!-- 138745111565872 -->\n<g id=\"node33\" class=\"node\">\n<title>138745111565872</title>\n<ellipse fill=\"none\" stroke=\"black\" cx=\"1286.96\" cy=\"-116.61\" rx=\"41.69\" ry=\"18\"/>\n<text text-anchor=\"middle\" x=\"1286.96\" y=\"-112.91\" font-family=\"Times,serif\" font-size=\"14.00\">keyword</text>\n</g>\n<!-- 138745111566496&#45;&gt;138745111565872 -->\n<g id=\"edge34\" class=\"edge\">\n<title>138745111566496&#45;&gt;138745111565872</title>\n<path fill=\"none\" stroke=\"black\" d=\"M1286.96,-179.37C1286.96,-169.34 1286.96,-156.45 1286.96,-145.03\"/>\n<polygon fill=\"black\" stroke=\"black\" points=\"1290.46,-144.69 1286.96,-134.69 1283.46,-144.69 1290.46,-144.69\"/>\n</g>\n<!-- 138745564553824 -->\n<g id=\"node34\" class=\"node\">\n<title>138745564553824</title>\n<ellipse fill=\"none\" stroke=\"black\" cx=\"1294.96\" cy=\"-26.87\" rx=\"79.81\" ry=\"26.74\"/>\n<text text-anchor=\"middle\" x=\"1294.96\" y=\"-30.67\" font-family=\"Times,serif\" font-size=\"14.00\">Name</text>\n<text text-anchor=\"middle\" x=\"1294.96\" y=\"-15.67\" font-family=\"Times,serif\" font-size=\"14.00\">GetSSACompiler</text>\n</g>\n<!-- 138745111565872&#45;&gt;138745564553824 -->\n<g id=\"edge35\" class=\"edge\">\n<title>138745111565872&#45;&gt;138745564553824</title>\n<path fill=\"none\" stroke=\"black\" d=\"M1288.54,-98.28C1289.44,-88.46 1290.59,-75.82 1291.67,-63.95\"/>\n<polygon fill=\"black\" stroke=\"black\" points=\"1295.17,-64.1 1292.6,-53.82 1288.2,-63.46 1295.17,-64.1\"/>\n</g>\n</g>\n</svg>\n",
            "text/plain": [
              "<graphviz.graphs.Digraph at 0x7e3038131180>"
            ]
          },
          "metadata": {}
        }
      ]
    },
    {
      "cell_type": "code",
      "source": [
        "# the above plot has a single Add node being connected from several BinOp nodes\n",
        "# this occurs because Python AST is internally reusing unimportant nodes, such\n",
        "# as operator nodes that don't store extra information\n",
        "# the following code snippet shows that Python AST is reusing nodes\n",
        "\n",
        "# code from dce_test()\n",
        "code = \"\"\"\n",
        "a = 10\n",
        "b = 20\n",
        "c = 40\n",
        "d = c + a\n",
        "e = d + b\n",
        "c = a + b\n",
        "return c\n",
        "\"\"\"\n",
        "\n",
        "tree = ast.parse(code)\n",
        "\n",
        "# Collect ids of all operator nodes\n",
        "operator_ids = []\n",
        "for node in ast.walk(tree):\n",
        "    if isinstance(node, ast.BinOp):\n",
        "        operator_ids.append((node.op, id(node.op)))\n",
        "\n",
        "# Print operator type and id\n",
        "for op, op_id in operator_ids:\n",
        "    print(f\"Operator: {type(op).__name__}, ID: {op_id}\")\n",
        "\n",
        "# Check if any IDs are duplicated\n",
        "unique_ids = {op_id for _, op_id in operator_ids}\n",
        "if len(unique_ids) < len(operator_ids):\n",
        "    print(\"AST is reusing operator nodes.\")\n",
        "else:\n",
        "    print(\"AST is not reusing operator nodes.\")"
      ],
      "metadata": {
        "colab": {
          "base_uri": "https://localhost:8080/"
        },
        "id": "1u_DYyzDbHYE",
        "outputId": "8af0180a-76eb-4a31-d54c-29dc90a99fb3"
      },
      "execution_count": 110,
      "outputs": [
        {
          "output_type": "stream",
          "name": "stdout",
          "text": [
            "Operator: Add, ID: 138746686162064\n",
            "Operator: Add, ID: 138746686162064\n",
            "Operator: Add, ID: 138746686162064\n",
            "AST is reusing operator nodes.\n"
          ]
        }
      ]
    },
    {
      "cell_type": "code",
      "source": [
        "ast_from_ssa = ssa_to_ast(ssa_statements, dce_test)\n",
        "ast_from_ssa_viz = visualize_ast(ast_from_ssa)\n",
        "display(ast_from_ssa_viz)"
      ],
      "metadata": {
        "colab": {
          "base_uri": "https://localhost:8080/",
          "height": 531
        },
        "id": "wx0f5P8gPeyU",
        "outputId": "5587a9bf-52f1-4d7f-d01a-198b78d04a27"
      },
      "execution_count": 136,
      "outputs": [
        {
          "output_type": "display_data",
          "data": {
            "image/svg+xml": "<?xml version=\"1.0\" encoding=\"UTF-8\" standalone=\"no\"?>\n<!DOCTYPE svg PUBLIC \"-//W3C//DTD SVG 1.1//EN\"\n \"http://www.w3.org/Graphics/SVG/1.1/DTD/svg11.dtd\">\n<!-- Generated by graphviz version 2.43.0 (0)\n -->\n<!-- Title: %3 Pages: 1 -->\n<svg width=\"1275pt\" height=\"367pt\"\n viewBox=\"0.00 0.00 1274.71 367.48\" xmlns=\"http://www.w3.org/2000/svg\" xmlns:xlink=\"http://www.w3.org/1999/xlink\">\n<g id=\"graph0\" class=\"graph\" transform=\"scale(1 1) rotate(0) translate(4 363.48)\">\n<title>%3</title>\n<polygon fill=\"white\" stroke=\"transparent\" points=\"-4,4 -4,-363.48 1270.71,-363.48 1270.71,4 -4,4\"/>\n<!-- 138745564300864 -->\n<g id=\"node1\" class=\"node\">\n<title>138745564300864</title>\n<ellipse fill=\"none\" stroke=\"black\" cx=\"579.36\" cy=\"-341.48\" rx=\"38.19\" ry=\"18\"/>\n<text text-anchor=\"middle\" x=\"579.36\" y=\"-337.78\" font-family=\"Times,serif\" font-size=\"14.00\">Module</text>\n</g>\n<!-- 138745564299568 -->\n<g id=\"node2\" class=\"node\">\n<title>138745564299568</title>\n<ellipse fill=\"none\" stroke=\"black\" cx=\"579.36\" cy=\"-269.48\" rx=\"55.49\" ry=\"18\"/>\n<text text-anchor=\"middle\" x=\"579.36\" y=\"-265.78\" font-family=\"Times,serif\" font-size=\"14.00\">FunctionDef</text>\n</g>\n<!-- 138745564300864&#45;&gt;138745564299568 -->\n<g id=\"edge1\" class=\"edge\">\n<title>138745564300864&#45;&gt;138745564299568</title>\n<path fill=\"none\" stroke=\"black\" d=\"M579.36,-323.18C579.36,-315.46 579.36,-306.19 579.36,-297.59\"/>\n<polygon fill=\"black\" stroke=\"black\" points=\"582.86,-297.58 579.36,-287.58 575.86,-297.58 582.86,-297.58\"/>\n</g>\n<!-- 138745565628640 -->\n<g id=\"node3\" class=\"node\">\n<title>138745565628640</title>\n<ellipse fill=\"none\" stroke=\"black\" cx=\"88.36\" cy=\"-197.48\" rx=\"48.19\" ry=\"18\"/>\n<text text-anchor=\"middle\" x=\"88.36\" y=\"-193.78\" font-family=\"Times,serif\" font-size=\"14.00\">arguments</text>\n</g>\n<!-- 138745564299568&#45;&gt;138745565628640 -->\n<g id=\"edge2\" class=\"edge\">\n<title>138745564299568&#45;&gt;138745565628640</title>\n<path fill=\"none\" stroke=\"black\" d=\"M525.77,-264.85C443.34,-258.62 280.78,-243.73 145.36,-215.48 141.43,-214.66 137.38,-213.7 133.35,-212.66\"/>\n<polygon fill=\"black\" stroke=\"black\" points=\"133.96,-209.2 123.39,-209.94 132.11,-215.95 133.96,-209.2\"/>\n</g>\n<!-- 138746260602352 -->\n<g id=\"node4\" class=\"node\">\n<title>138746260602352</title>\n<ellipse fill=\"none\" stroke=\"black\" cx=\"189.36\" cy=\"-197.48\" rx=\"35.19\" ry=\"18\"/>\n<text text-anchor=\"middle\" x=\"189.36\" y=\"-193.78\" font-family=\"Times,serif\" font-size=\"14.00\">Assign</text>\n</g>\n<!-- 138745564299568&#45;&gt;138746260602352 -->\n<g id=\"edge3\" class=\"edge\">\n<title>138745564299568&#45;&gt;138746260602352</title>\n<path fill=\"none\" stroke=\"black\" d=\"M532.31,-260.04C455.85,-246.31 305.74,-219.37 232.13,-206.16\"/>\n<polygon fill=\"black\" stroke=\"black\" points=\"232.3,-202.63 221.84,-204.31 231.06,-209.52 232.3,-202.63\"/>\n</g>\n<!-- 138745627314304 -->\n<g id=\"node7\" class=\"node\">\n<title>138745627314304</title>\n<ellipse fill=\"none\" stroke=\"black\" cx=\"332.36\" cy=\"-197.48\" rx=\"35.19\" ry=\"18\"/>\n<text text-anchor=\"middle\" x=\"332.36\" y=\"-193.78\" font-family=\"Times,serif\" font-size=\"14.00\">Assign</text>\n</g>\n<!-- 138745564299568&#45;&gt;138745627314304 -->\n<g id=\"edge6\" class=\"edge\">\n<title>138745564299568&#45;&gt;138745627314304</title>\n<path fill=\"none\" stroke=\"black\" d=\"M539.12,-257.08C493.11,-244.04 418.25,-222.82 372.35,-209.81\"/>\n<polygon fill=\"black\" stroke=\"black\" points=\"373.03,-206.37 362.46,-207.01 371.12,-213.1 373.03,-206.37\"/>\n</g>\n<!-- 138745566777872 -->\n<g id=\"node10\" class=\"node\">\n<title>138745566777872</title>\n<ellipse fill=\"none\" stroke=\"black\" cx=\"530.36\" cy=\"-197.48\" rx=\"35.19\" ry=\"18\"/>\n<text text-anchor=\"middle\" x=\"530.36\" y=\"-193.78\" font-family=\"Times,serif\" font-size=\"14.00\">Assign</text>\n</g>\n<!-- 138745564299568&#45;&gt;138745566777872 -->\n<g id=\"edge9\" class=\"edge\">\n<title>138745564299568&#45;&gt;138745566777872</title>\n<path fill=\"none\" stroke=\"black\" d=\"M567.49,-251.54C561.51,-242.98 554.14,-232.46 547.54,-223.04\"/>\n<polygon fill=\"black\" stroke=\"black\" points=\"550.37,-220.97 541.77,-214.79 544.64,-224.99 550.37,-220.97\"/>\n</g>\n<!-- 138745110847088 -->\n<g id=\"node13\" class=\"node\">\n<title>138745110847088</title>\n<ellipse fill=\"none\" stroke=\"black\" cx=\"629.36\" cy=\"-197.48\" rx=\"35.19\" ry=\"18\"/>\n<text text-anchor=\"middle\" x=\"629.36\" y=\"-193.78\" font-family=\"Times,serif\" font-size=\"14.00\">Assign</text>\n</g>\n<!-- 138745564299568&#45;&gt;138745110847088 -->\n<g id=\"edge12\" class=\"edge\">\n<title>138745564299568&#45;&gt;138745110847088</title>\n<path fill=\"none\" stroke=\"black\" d=\"M591.2,-251.89C597.31,-243.35 604.87,-232.76 611.65,-223.27\"/>\n<polygon fill=\"black\" stroke=\"black\" points=\"614.63,-225.12 617.59,-214.95 608.93,-221.05 614.63,-225.12\"/>\n</g>\n<!-- 138745564300288 -->\n<g id=\"node19\" class=\"node\">\n<title>138745564300288</title>\n<ellipse fill=\"none\" stroke=\"black\" cx=\"811.36\" cy=\"-197.48\" rx=\"35.19\" ry=\"18\"/>\n<text text-anchor=\"middle\" x=\"811.36\" y=\"-193.78\" font-family=\"Times,serif\" font-size=\"14.00\">Assign</text>\n</g>\n<!-- 138745564299568&#45;&gt;138745564300288 -->\n<g id=\"edge18\" class=\"edge\">\n<title>138745564299568&#45;&gt;138745564300288</title>\n<path fill=\"none\" stroke=\"black\" d=\"M618.45,-256.68C661.13,-243.81 729.09,-223.3 771.91,-210.38\"/>\n<polygon fill=\"black\" stroke=\"black\" points=\"773.13,-213.67 781.7,-207.43 771.11,-206.97 773.13,-213.67\"/>\n</g>\n<!-- 138745564302688 -->\n<g id=\"node25\" class=\"node\">\n<title>138745564302688</title>\n<ellipse fill=\"none\" stroke=\"black\" cx=\"993.36\" cy=\"-197.48\" rx=\"35.19\" ry=\"18\"/>\n<text text-anchor=\"middle\" x=\"993.36\" y=\"-193.78\" font-family=\"Times,serif\" font-size=\"14.00\">Assign</text>\n</g>\n<!-- 138745564299568&#45;&gt;138745564302688 -->\n<g id=\"edge24\" class=\"edge\">\n<title>138745564299568&#45;&gt;138745564302688</title>\n<path fill=\"none\" stroke=\"black\" d=\"M627.25,-260.38C708.63,-246.62 872.62,-218.89 950.46,-205.73\"/>\n<polygon fill=\"black\" stroke=\"black\" points=\"951.14,-209.17 960.41,-204.05 949.97,-202.27 951.14,-209.17\"/>\n</g>\n<!-- 138745564302592 -->\n<g id=\"node31\" class=\"node\">\n<title>138745564302592</title>\n<ellipse fill=\"none\" stroke=\"black\" cx=\"1128.36\" cy=\"-197.48\" rx=\"34.39\" ry=\"18\"/>\n<text text-anchor=\"middle\" x=\"1128.36\" y=\"-193.78\" font-family=\"Times,serif\" font-size=\"14.00\">Return</text>\n</g>\n<!-- 138745564299568&#45;&gt;138745564302592 -->\n<g id=\"edge30\" class=\"edge\">\n<title>138745564299568&#45;&gt;138745564302592</title>\n<path fill=\"none\" stroke=\"black\" d=\"M631.71,-263.62C716.96,-255.43 890.93,-237.6 1037.36,-215.48 1053.65,-213.02 1071.49,-209.8 1087.03,-206.83\"/>\n<polygon fill=\"black\" stroke=\"black\" points=\"1087.71,-210.26 1096.86,-204.92 1086.38,-203.39 1087.71,-210.26\"/>\n</g>\n<!-- 138745565638096 -->\n<g id=\"node5\" class=\"node\">\n<title>138745565638096</title>\n<ellipse fill=\"none\" stroke=\"black\" cx=\"35.36\" cy=\"-116.61\" rx=\"35.21\" ry=\"26.74\"/>\n<text text-anchor=\"middle\" x=\"35.36\" y=\"-120.41\" font-family=\"Times,serif\" font-size=\"14.00\">Name</text>\n<text text-anchor=\"middle\" x=\"35.36\" y=\"-105.41\" font-family=\"Times,serif\" font-size=\"14.00\">a</text>\n</g>\n<!-- 138746260602352&#45;&gt;138745565638096 -->\n<g id=\"edge4\" class=\"edge\">\n<title>138746260602352&#45;&gt;138745565638096</title>\n<path fill=\"none\" stroke=\"black\" d=\"M163.72,-184.86C141.23,-174.49 107.78,-158.65 79.36,-143.48 76.79,-142.11 74.16,-140.67 71.52,-139.19\"/>\n<polygon fill=\"black\" stroke=\"black\" points=\"73.04,-136.03 62.62,-134.11 69.57,-142.11 73.04,-136.03\"/>\n</g>\n<!-- 138746260601488 -->\n<g id=\"node6\" class=\"node\">\n<title>138746260601488</title>\n<ellipse fill=\"none\" stroke=\"black\" cx=\"134.36\" cy=\"-116.61\" rx=\"45.92\" ry=\"26.74\"/>\n<text text-anchor=\"middle\" x=\"134.36\" y=\"-120.41\" font-family=\"Times,serif\" font-size=\"14.00\">Constant</text>\n<text text-anchor=\"middle\" x=\"134.36\" y=\"-105.41\" font-family=\"Times,serif\" font-size=\"14.00\">10</text>\n</g>\n<!-- 138746260602352&#45;&gt;138746260601488 -->\n<g id=\"edge5\" class=\"edge\">\n<title>138746260602352&#45;&gt;138746260601488</title>\n<path fill=\"none\" stroke=\"black\" d=\"M177.96,-180.14C171.91,-171.47 164.26,-160.5 157.06,-150.17\"/>\n<polygon fill=\"black\" stroke=\"black\" points=\"159.76,-147.92 151.17,-141.72 154.02,-151.92 159.76,-147.92\"/>\n</g>\n<!-- 138746260598848 -->\n<g id=\"node8\" class=\"node\">\n<title>138746260598848</title>\n<ellipse fill=\"none\" stroke=\"black\" cx=\"233.36\" cy=\"-116.61\" rx=\"35.21\" ry=\"26.74\"/>\n<text text-anchor=\"middle\" x=\"233.36\" y=\"-120.41\" font-family=\"Times,serif\" font-size=\"14.00\">Name</text>\n<text text-anchor=\"middle\" x=\"233.36\" y=\"-105.41\" font-family=\"Times,serif\" font-size=\"14.00\">b</text>\n</g>\n<!-- 138745627314304&#45;&gt;138746260598848 -->\n<g id=\"edge7\" class=\"edge\">\n<title>138745627314304&#45;&gt;138746260598848</title>\n<path fill=\"none\" stroke=\"black\" d=\"M314.2,-182.01C300.6,-171.18 281.65,-156.08 265.51,-143.23\"/>\n<polygon fill=\"black\" stroke=\"black\" points=\"267.37,-140.24 257.37,-136.74 263.01,-145.71 267.37,-140.24\"/>\n</g>\n<!-- 138746260595776 -->\n<g id=\"node9\" class=\"node\">\n<title>138746260595776</title>\n<ellipse fill=\"none\" stroke=\"black\" cx=\"332.36\" cy=\"-116.61\" rx=\"45.92\" ry=\"26.74\"/>\n<text text-anchor=\"middle\" x=\"332.36\" y=\"-120.41\" font-family=\"Times,serif\" font-size=\"14.00\">Constant</text>\n<text text-anchor=\"middle\" x=\"332.36\" y=\"-105.41\" font-family=\"Times,serif\" font-size=\"14.00\">20</text>\n</g>\n<!-- 138745627314304&#45;&gt;138746260595776 -->\n<g id=\"edge8\" class=\"edge\">\n<title>138745627314304&#45;&gt;138746260595776</title>\n<path fill=\"none\" stroke=\"black\" d=\"M332.36,-179.37C332.36,-171.88 332.36,-162.79 332.36,-153.91\"/>\n<polygon fill=\"black\" stroke=\"black\" points=\"335.86,-153.69 332.36,-143.69 328.86,-153.69 335.86,-153.69\"/>\n</g>\n<!-- 138745566780080 -->\n<g id=\"node11\" class=\"node\">\n<title>138745566780080</title>\n<ellipse fill=\"none\" stroke=\"black\" cx=\"431.36\" cy=\"-116.61\" rx=\"35.21\" ry=\"26.74\"/>\n<text text-anchor=\"middle\" x=\"431.36\" y=\"-120.41\" font-family=\"Times,serif\" font-size=\"14.00\">Name</text>\n<text text-anchor=\"middle\" x=\"431.36\" y=\"-105.41\" font-family=\"Times,serif\" font-size=\"14.00\">c</text>\n</g>\n<!-- 138745566777872&#45;&gt;138745566780080 -->\n<g id=\"edge10\" class=\"edge\">\n<title>138745566777872&#45;&gt;138745566780080</title>\n<path fill=\"none\" stroke=\"black\" d=\"M512.2,-182.01C498.6,-171.18 479.65,-156.08 463.51,-143.23\"/>\n<polygon fill=\"black\" stroke=\"black\" points=\"465.37,-140.24 455.37,-136.74 461.01,-145.71 465.37,-140.24\"/>\n</g>\n<!-- 138745566777728 -->\n<g id=\"node12\" class=\"node\">\n<title>138745566777728</title>\n<ellipse fill=\"none\" stroke=\"black\" cx=\"530.36\" cy=\"-116.61\" rx=\"45.92\" ry=\"26.74\"/>\n<text text-anchor=\"middle\" x=\"530.36\" y=\"-120.41\" font-family=\"Times,serif\" font-size=\"14.00\">Constant</text>\n<text text-anchor=\"middle\" x=\"530.36\" y=\"-105.41\" font-family=\"Times,serif\" font-size=\"14.00\">40</text>\n</g>\n<!-- 138745566777872&#45;&gt;138745566777728 -->\n<g id=\"edge11\" class=\"edge\">\n<title>138745566777872&#45;&gt;138745566777728</title>\n<path fill=\"none\" stroke=\"black\" d=\"M530.36,-179.37C530.36,-171.88 530.36,-162.79 530.36,-153.91\"/>\n<polygon fill=\"black\" stroke=\"black\" points=\"533.86,-153.69 530.36,-143.69 526.86,-153.69 533.86,-153.69\"/>\n</g>\n<!-- 138745110850352 -->\n<g id=\"node14\" class=\"node\">\n<title>138745110850352</title>\n<ellipse fill=\"none\" stroke=\"black\" cx=\"629.36\" cy=\"-116.61\" rx=\"35.21\" ry=\"26.74\"/>\n<text text-anchor=\"middle\" x=\"629.36\" y=\"-120.41\" font-family=\"Times,serif\" font-size=\"14.00\">Name</text>\n<text text-anchor=\"middle\" x=\"629.36\" y=\"-105.41\" font-family=\"Times,serif\" font-size=\"14.00\">d</text>\n</g>\n<!-- 138745110847088&#45;&gt;138745110850352 -->\n<g id=\"edge13\" class=\"edge\">\n<title>138745110847088&#45;&gt;138745110850352</title>\n<path fill=\"none\" stroke=\"black\" d=\"M629.36,-179.37C629.36,-171.88 629.36,-162.79 629.36,-153.91\"/>\n<polygon fill=\"black\" stroke=\"black\" points=\"632.86,-153.69 629.36,-143.69 625.86,-153.69 632.86,-153.69\"/>\n</g>\n<!-- 138745110845792 -->\n<g id=\"node15\" class=\"node\">\n<title>138745110845792</title>\n<ellipse fill=\"none\" stroke=\"black\" cx=\"720.36\" cy=\"-116.61\" rx=\"37.45\" ry=\"26.74\"/>\n<text text-anchor=\"middle\" x=\"720.36\" y=\"-120.41\" font-family=\"Times,serif\" font-size=\"14.00\">BinOp</text>\n<text text-anchor=\"middle\" x=\"720.36\" y=\"-105.41\" font-family=\"Times,serif\" font-size=\"14.00\">Add</text>\n</g>\n<!-- 138745110847088&#45;&gt;138745110845792 -->\n<g id=\"edge14\" class=\"edge\">\n<title>138745110847088&#45;&gt;138745110845792</title>\n<path fill=\"none\" stroke=\"black\" d=\"M646.47,-181.65C658.55,-171.18 675.07,-156.86 689.42,-144.42\"/>\n<polygon fill=\"black\" stroke=\"black\" points=\"691.87,-146.93 697.13,-137.74 687.28,-141.64 691.87,-146.93\"/>\n</g>\n<!-- 138745110850112 -->\n<g id=\"node16\" class=\"node\">\n<title>138745110850112</title>\n<ellipse fill=\"none\" stroke=\"black\" cx=\"573.36\" cy=\"-26.87\" rx=\"35.21\" ry=\"26.74\"/>\n<text text-anchor=\"middle\" x=\"573.36\" y=\"-30.67\" font-family=\"Times,serif\" font-size=\"14.00\">Name</text>\n<text text-anchor=\"middle\" x=\"573.36\" y=\"-15.67\" font-family=\"Times,serif\" font-size=\"14.00\">c</text>\n</g>\n<!-- 138745110845792&#45;&gt;138745110850112 -->\n<g id=\"edge15\" class=\"edge\">\n<title>138745110845792&#45;&gt;138745110850112</title>\n<path fill=\"none\" stroke=\"black\" d=\"M692.01,-98.69C668.43,-84.62 634.72,-64.5 609.25,-49.3\"/>\n<polygon fill=\"black\" stroke=\"black\" points=\"611,-46.26 600.62,-44.14 607.41,-52.27 611,-46.26\"/>\n</g>\n<!-- 138745110849872 -->\n<g id=\"node17\" class=\"node\">\n<title>138745110849872</title>\n<ellipse fill=\"none\" stroke=\"black\" cx=\"653.36\" cy=\"-26.87\" rx=\"27\" ry=\"18\"/>\n<text text-anchor=\"middle\" x=\"653.36\" y=\"-23.17\" font-family=\"Times,serif\" font-size=\"14.00\">Add</text>\n</g>\n<!-- 138745110845792&#45;&gt;138745110849872 -->\n<g id=\"edge16\" class=\"edge\">\n<title>138745110845792&#45;&gt;138745110849872</title>\n<path fill=\"none\" stroke=\"black\" d=\"M702.75,-92.56C693.11,-79.93 681.19,-64.32 671.47,-51.59\"/>\n<polygon fill=\"black\" stroke=\"black\" points=\"674,-49.14 665.15,-43.31 668.44,-53.39 674,-49.14\"/>\n</g>\n<!-- 138745110842336 -->\n<g id=\"node18\" class=\"node\">\n<title>138745110842336</title>\n<ellipse fill=\"none\" stroke=\"black\" cx=\"733.36\" cy=\"-26.87\" rx=\"35.21\" ry=\"26.74\"/>\n<text text-anchor=\"middle\" x=\"733.36\" y=\"-30.67\" font-family=\"Times,serif\" font-size=\"14.00\">Name</text>\n<text text-anchor=\"middle\" x=\"733.36\" y=\"-15.67\" font-family=\"Times,serif\" font-size=\"14.00\">a</text>\n</g>\n<!-- 138745110845792&#45;&gt;138745110842336 -->\n<g id=\"edge17\" class=\"edge\">\n<title>138745110845792&#45;&gt;138745110842336</title>\n<path fill=\"none\" stroke=\"black\" d=\"M724.19,-89.76C725.39,-81.62 726.75,-72.48 728.04,-63.77\"/>\n<polygon fill=\"black\" stroke=\"black\" points=\"731.5,-64.24 729.51,-53.84 724.58,-63.22 731.5,-64.24\"/>\n</g>\n<!-- 138745564303648 -->\n<g id=\"node20\" class=\"node\">\n<title>138745564303648</title>\n<ellipse fill=\"none\" stroke=\"black\" cx=\"811.36\" cy=\"-116.61\" rx=\"35.21\" ry=\"26.74\"/>\n<text text-anchor=\"middle\" x=\"811.36\" y=\"-120.41\" font-family=\"Times,serif\" font-size=\"14.00\">Name</text>\n<text text-anchor=\"middle\" x=\"811.36\" y=\"-105.41\" font-family=\"Times,serif\" font-size=\"14.00\">e</text>\n</g>\n<!-- 138745564300288&#45;&gt;138745564303648 -->\n<g id=\"edge19\" class=\"edge\">\n<title>138745564300288&#45;&gt;138745564303648</title>\n<path fill=\"none\" stroke=\"black\" d=\"M811.36,-179.37C811.36,-171.88 811.36,-162.79 811.36,-153.91\"/>\n<polygon fill=\"black\" stroke=\"black\" points=\"814.86,-153.69 811.36,-143.69 807.86,-153.69 814.86,-153.69\"/>\n</g>\n<!-- 138745564299376 -->\n<g id=\"node21\" class=\"node\">\n<title>138745564299376</title>\n<ellipse fill=\"none\" stroke=\"black\" cx=\"902.36\" cy=\"-116.61\" rx=\"37.45\" ry=\"26.74\"/>\n<text text-anchor=\"middle\" x=\"902.36\" y=\"-120.41\" font-family=\"Times,serif\" font-size=\"14.00\">BinOp</text>\n<text text-anchor=\"middle\" x=\"902.36\" y=\"-105.41\" font-family=\"Times,serif\" font-size=\"14.00\">Add</text>\n</g>\n<!-- 138745564300288&#45;&gt;138745564299376 -->\n<g id=\"edge20\" class=\"edge\">\n<title>138745564300288&#45;&gt;138745564299376</title>\n<path fill=\"none\" stroke=\"black\" d=\"M828.47,-181.65C840.55,-171.18 857.07,-156.86 871.42,-144.42\"/>\n<polygon fill=\"black\" stroke=\"black\" points=\"873.87,-146.93 879.13,-137.74 869.28,-141.64 873.87,-146.93\"/>\n</g>\n<!-- 138745564305184 -->\n<g id=\"node22\" class=\"node\">\n<title>138745564305184</title>\n<ellipse fill=\"none\" stroke=\"black\" cx=\"822.36\" cy=\"-26.87\" rx=\"35.21\" ry=\"26.74\"/>\n<text text-anchor=\"middle\" x=\"822.36\" y=\"-30.67\" font-family=\"Times,serif\" font-size=\"14.00\">Name</text>\n<text text-anchor=\"middle\" x=\"822.36\" y=\"-15.67\" font-family=\"Times,serif\" font-size=\"14.00\">d</text>\n</g>\n<!-- 138745564299376&#45;&gt;138745564305184 -->\n<g id=\"edge21\" class=\"edge\">\n<title>138745564299376&#45;&gt;138745564305184</title>\n<path fill=\"none\" stroke=\"black\" d=\"M882.17,-93.47C872.07,-82.39 859.71,-68.84 848.86,-56.94\"/>\n<polygon fill=\"black\" stroke=\"black\" points=\"851.31,-54.43 841.98,-49.4 846.13,-59.14 851.31,-54.43\"/>\n</g>\n<!-- 138745564300432 -->\n<g id=\"node23\" class=\"node\">\n<title>138745564300432</title>\n<ellipse fill=\"none\" stroke=\"black\" cx=\"902.36\" cy=\"-26.87\" rx=\"27\" ry=\"18\"/>\n<text text-anchor=\"middle\" x=\"902.36\" y=\"-23.17\" font-family=\"Times,serif\" font-size=\"14.00\">Add</text>\n</g>\n<!-- 138745564299376&#45;&gt;138745564300432 -->\n<g id=\"edge22\" class=\"edge\">\n<title>138745564299376&#45;&gt;138745564300432</title>\n<path fill=\"none\" stroke=\"black\" d=\"M902.36,-89.29C902.36,-78.53 902.36,-66.1 902.36,-55.24\"/>\n<polygon fill=\"black\" stroke=\"black\" points=\"905.86,-55.03 902.36,-45.03 898.86,-55.03 905.86,-55.03\"/>\n</g>\n<!-- 138745564301728 -->\n<g id=\"node24\" class=\"node\">\n<title>138745564301728</title>\n<ellipse fill=\"none\" stroke=\"black\" cx=\"982.36\" cy=\"-26.87\" rx=\"35.21\" ry=\"26.74\"/>\n<text text-anchor=\"middle\" x=\"982.36\" y=\"-30.67\" font-family=\"Times,serif\" font-size=\"14.00\">Name</text>\n<text text-anchor=\"middle\" x=\"982.36\" y=\"-15.67\" font-family=\"Times,serif\" font-size=\"14.00\">b</text>\n</g>\n<!-- 138745564299376&#45;&gt;138745564301728 -->\n<g id=\"edge23\" class=\"edge\">\n<title>138745564299376&#45;&gt;138745564301728</title>\n<path fill=\"none\" stroke=\"black\" d=\"M922.54,-93.47C932.64,-82.39 945,-68.84 955.85,-56.94\"/>\n<polygon fill=\"black\" stroke=\"black\" points=\"958.58,-59.14 962.73,-49.4 953.4,-54.43 958.58,-59.14\"/>\n</g>\n<!-- 138745564300192 -->\n<g id=\"node26\" class=\"node\">\n<title>138745564300192</title>\n<ellipse fill=\"none\" stroke=\"black\" cx=\"993.36\" cy=\"-116.61\" rx=\"35.21\" ry=\"26.74\"/>\n<text text-anchor=\"middle\" x=\"993.36\" y=\"-120.41\" font-family=\"Times,serif\" font-size=\"14.00\">Name</text>\n<text text-anchor=\"middle\" x=\"993.36\" y=\"-105.41\" font-family=\"Times,serif\" font-size=\"14.00\">c</text>\n</g>\n<!-- 138745564302688&#45;&gt;138745564300192 -->\n<g id=\"edge25\" class=\"edge\">\n<title>138745564302688&#45;&gt;138745564300192</title>\n<path fill=\"none\" stroke=\"black\" d=\"M993.36,-179.37C993.36,-171.88 993.36,-162.79 993.36,-153.91\"/>\n<polygon fill=\"black\" stroke=\"black\" points=\"996.86,-153.69 993.36,-143.69 989.86,-153.69 996.86,-153.69\"/>\n</g>\n<!-- 138745564303024 -->\n<g id=\"node27\" class=\"node\">\n<title>138745564303024</title>\n<ellipse fill=\"none\" stroke=\"black\" cx=\"1084.36\" cy=\"-116.61\" rx=\"37.45\" ry=\"26.74\"/>\n<text text-anchor=\"middle\" x=\"1084.36\" y=\"-120.41\" font-family=\"Times,serif\" font-size=\"14.00\">BinOp</text>\n<text text-anchor=\"middle\" x=\"1084.36\" y=\"-105.41\" font-family=\"Times,serif\" font-size=\"14.00\">Add</text>\n</g>\n<!-- 138745564302688&#45;&gt;138745564303024 -->\n<g id=\"edge26\" class=\"edge\">\n<title>138745564302688&#45;&gt;138745564303024</title>\n<path fill=\"none\" stroke=\"black\" d=\"M1010.47,-181.65C1022.55,-171.18 1039.07,-156.86 1053.42,-144.42\"/>\n<polygon fill=\"black\" stroke=\"black\" points=\"1055.87,-146.93 1061.13,-137.74 1051.28,-141.64 1055.87,-146.93\"/>\n</g>\n<!-- 138745564299760 -->\n<g id=\"node28\" class=\"node\">\n<title>138745564299760</title>\n<ellipse fill=\"none\" stroke=\"black\" cx=\"1071.36\" cy=\"-26.87\" rx=\"35.21\" ry=\"26.74\"/>\n<text text-anchor=\"middle\" x=\"1071.36\" y=\"-30.67\" font-family=\"Times,serif\" font-size=\"14.00\">Name</text>\n<text text-anchor=\"middle\" x=\"1071.36\" y=\"-15.67\" font-family=\"Times,serif\" font-size=\"14.00\">a</text>\n</g>\n<!-- 138745564303024&#45;&gt;138745564299760 -->\n<g id=\"edge27\" class=\"edge\">\n<title>138745564303024&#45;&gt;138745564299760</title>\n<path fill=\"none\" stroke=\"black\" d=\"M1080.53,-89.76C1079.32,-81.62 1077.97,-72.48 1076.68,-63.77\"/>\n<polygon fill=\"black\" stroke=\"black\" points=\"1080.13,-63.22 1075.2,-53.84 1073.21,-64.24 1080.13,-63.22\"/>\n</g>\n<!-- 138745564299472 -->\n<g id=\"node29\" class=\"node\">\n<title>138745564299472</title>\n<ellipse fill=\"none\" stroke=\"black\" cx=\"1151.36\" cy=\"-26.87\" rx=\"27\" ry=\"18\"/>\n<text text-anchor=\"middle\" x=\"1151.36\" y=\"-23.17\" font-family=\"Times,serif\" font-size=\"14.00\">Add</text>\n</g>\n<!-- 138745564303024&#45;&gt;138745564299472 -->\n<g id=\"edge28\" class=\"edge\">\n<title>138745564303024&#45;&gt;138745564299472</title>\n<path fill=\"none\" stroke=\"black\" d=\"M1101.96,-92.56C1111.6,-79.93 1123.52,-64.32 1133.24,-51.59\"/>\n<polygon fill=\"black\" stroke=\"black\" points=\"1136.28,-53.39 1139.56,-43.31 1130.71,-49.14 1136.28,-53.39\"/>\n</g>\n<!-- 138745564301680 -->\n<g id=\"node30\" class=\"node\">\n<title>138745564301680</title>\n<ellipse fill=\"none\" stroke=\"black\" cx=\"1231.36\" cy=\"-26.87\" rx=\"35.21\" ry=\"26.74\"/>\n<text text-anchor=\"middle\" x=\"1231.36\" y=\"-30.67\" font-family=\"Times,serif\" font-size=\"14.00\">Name</text>\n<text text-anchor=\"middle\" x=\"1231.36\" y=\"-15.67\" font-family=\"Times,serif\" font-size=\"14.00\">b</text>\n</g>\n<!-- 138745564303024&#45;&gt;138745564301680 -->\n<g id=\"edge29\" class=\"edge\">\n<title>138745564303024&#45;&gt;138745564301680</title>\n<path fill=\"none\" stroke=\"black\" d=\"M1112.7,-98.69C1136.28,-84.62 1169.99,-64.5 1195.46,-49.3\"/>\n<polygon fill=\"black\" stroke=\"black\" points=\"1197.3,-52.27 1204.09,-44.14 1193.71,-46.26 1197.3,-52.27\"/>\n</g>\n<!-- 138745564308256 -->\n<g id=\"node32\" class=\"node\">\n<title>138745564308256</title>\n<ellipse fill=\"none\" stroke=\"black\" cx=\"1175.36\" cy=\"-116.61\" rx=\"35.21\" ry=\"26.74\"/>\n<text text-anchor=\"middle\" x=\"1175.36\" y=\"-120.41\" font-family=\"Times,serif\" font-size=\"14.00\">Name</text>\n<text text-anchor=\"middle\" x=\"1175.36\" y=\"-105.41\" font-family=\"Times,serif\" font-size=\"14.00\">c</text>\n</g>\n<!-- 138745564302592&#45;&gt;138745564308256 -->\n<g id=\"edge31\" class=\"edge\">\n<title>138745564302592&#45;&gt;138745564308256</title>\n<path fill=\"none\" stroke=\"black\" d=\"M1138.09,-180.14C1143.25,-171.48 1149.77,-160.54 1155.92,-150.23\"/>\n<polygon fill=\"black\" stroke=\"black\" points=\"1159.06,-151.8 1161.17,-141.41 1153.04,-148.21 1159.06,-151.8\"/>\n</g>\n</g>\n</svg>\n",
            "text/plain": [
              "<graphviz.graphs.Digraph at 0x7e3038277f70>"
            ]
          },
          "metadata": {}
        }
      ]
    },
    {
      "cell_type": "code",
      "source": [
        "# draw AST for a more complex function (involves loop)\n",
        "# not SSA to AST\n",
        "\n",
        "func_ast = get_ast(test_ast_loop)\n",
        "ast_viz = visualize_ast(func_ast)\n",
        "#ast_viz.render(\"AST Visualization\", format=\"png\", view=True)\n",
        "display(ast_viz)"
      ],
      "metadata": {
        "colab": {
          "base_uri": "https://localhost:8080/",
          "height": 1000
        },
        "id": "tNjW0BIhayLx",
        "outputId": "f0e3de77-579c-4b4c-da96-89175c386949"
      },
      "execution_count": null,
      "outputs": [
        {
          "output_type": "stream",
          "name": "stdout",
          "text": [
            "AST Tree: Module(\n",
            "    body=[\n",
            "        FunctionDef(\n",
            "            name='test_ast_loop',\n",
            "            args=arguments(\n",
            "                posonlyargs=[],\n",
            "                args=[],\n",
            "                kwonlyargs=[],\n",
            "                kw_defaults=[],\n",
            "                defaults=[]),\n",
            "            body=[\n",
            "                Assign(\n",
            "                    targets=[\n",
            "                        Name(id='x', ctx=Store())],\n",
            "                    value=Constant(value=0)),\n",
            "                For(\n",
            "                    target=Name(id='i', ctx=Store()),\n",
            "                    iter=Call(\n",
            "                        func=Name(id='range', ctx=Load()),\n",
            "                        args=[\n",
            "                            Constant(value=0),\n",
            "                            Constant(value=5)],\n",
            "                        keywords=[]),\n",
            "                    body=[\n",
            "                        AugAssign(\n",
            "                            target=Name(id='x', ctx=Store()),\n",
            "                            op=Add(),\n",
            "                            value=Name(id='i', ctx=Load()))],\n",
            "                    orelse=[]),\n",
            "                Return(\n",
            "                    value=Name(id='x', ctx=Load()))],\n",
            "            decorator_list=[])],\n",
            "    type_ignores=[])\n"
          ]
        },
        {
          "output_type": "display_data",
          "data": {
            "image/svg+xml": "<?xml version=\"1.0\" encoding=\"UTF-8\" standalone=\"no\"?>\n<!DOCTYPE svg PUBLIC \"-//W3C//DTD SVG 1.1//EN\"\n \"http://www.w3.org/Graphics/SVG/1.1/DTD/svg11.dtd\">\n<!-- Generated by graphviz version 2.43.0 (0)\n -->\n<!-- Title: %3 Pages: 1 -->\n<svg width=\"621pt\" height=\"367pt\"\n viewBox=\"0.00 0.00 621.45 367.48\" xmlns=\"http://www.w3.org/2000/svg\" xmlns:xlink=\"http://www.w3.org/1999/xlink\">\n<g id=\"graph0\" class=\"graph\" transform=\"scale(1 1) rotate(0) translate(4 363.48)\">\n<title>%3</title>\n<polygon fill=\"white\" stroke=\"transparent\" points=\"-4,4 -4,-363.48 617.45,-363.48 617.45,4 -4,4\"/>\n<!-- 138745111740272 -->\n<g id=\"node1\" class=\"node\">\n<title>138745111740272</title>\n<ellipse fill=\"none\" stroke=\"black\" cx=\"198.1\" cy=\"-341.48\" rx=\"38.19\" ry=\"18\"/>\n<text text-anchor=\"middle\" x=\"198.1\" y=\"-337.78\" font-family=\"Times,serif\" font-size=\"14.00\">Module</text>\n</g>\n<!-- 138745111740224 -->\n<g id=\"node2\" class=\"node\">\n<title>138745111740224</title>\n<ellipse fill=\"none\" stroke=\"black\" cx=\"198.1\" cy=\"-269.48\" rx=\"55.49\" ry=\"18\"/>\n<text text-anchor=\"middle\" x=\"198.1\" y=\"-265.78\" font-family=\"Times,serif\" font-size=\"14.00\">FunctionDef</text>\n</g>\n<!-- 138745111740272&#45;&gt;138745111740224 -->\n<g id=\"edge1\" class=\"edge\">\n<title>138745111740272&#45;&gt;138745111740224</title>\n<path fill=\"none\" stroke=\"black\" d=\"M198.1,-323.18C198.1,-315.46 198.1,-306.19 198.1,-297.59\"/>\n<polygon fill=\"black\" stroke=\"black\" points=\"201.6,-297.58 198.1,-287.58 194.6,-297.58 201.6,-297.58\"/>\n</g>\n<!-- 138745111740368 -->\n<g id=\"node3\" class=\"node\">\n<title>138745111740368</title>\n<ellipse fill=\"none\" stroke=\"black\" cx=\"48.1\" cy=\"-197.48\" rx=\"48.19\" ry=\"18\"/>\n<text text-anchor=\"middle\" x=\"48.1\" y=\"-193.78\" font-family=\"Times,serif\" font-size=\"14.00\">arguments</text>\n</g>\n<!-- 138745111740224&#45;&gt;138745111740368 -->\n<g id=\"edge2\" class=\"edge\">\n<title>138745111740224&#45;&gt;138745111740368</title>\n<path fill=\"none\" stroke=\"black\" d=\"M167.74,-254.31C144.21,-243.33 111.46,-228.05 86.17,-216.25\"/>\n<polygon fill=\"black\" stroke=\"black\" points=\"87.42,-212.97 76.88,-211.91 84.46,-219.31 87.42,-212.97\"/>\n</g>\n<!-- 138745111725296 -->\n<g id=\"node4\" class=\"node\">\n<title>138745111725296</title>\n<ellipse fill=\"none\" stroke=\"black\" cx=\"149.1\" cy=\"-197.48\" rx=\"35.19\" ry=\"18\"/>\n<text text-anchor=\"middle\" x=\"149.1\" y=\"-193.78\" font-family=\"Times,serif\" font-size=\"14.00\">Assign</text>\n</g>\n<!-- 138745111740224&#45;&gt;138745111725296 -->\n<g id=\"edge3\" class=\"edge\">\n<title>138745111740224&#45;&gt;138745111725296</title>\n<path fill=\"none\" stroke=\"black\" d=\"M186.23,-251.54C180.25,-242.98 172.88,-232.46 166.28,-223.04\"/>\n<polygon fill=\"black\" stroke=\"black\" points=\"169.11,-220.97 160.51,-214.79 163.38,-224.99 169.11,-220.97\"/>\n</g>\n<!-- 138745111740128 -->\n<g id=\"node7\" class=\"node\">\n<title>138745111740128</title>\n<ellipse fill=\"none\" stroke=\"black\" cx=\"279.1\" cy=\"-197.48\" rx=\"27\" ry=\"18\"/>\n<text text-anchor=\"middle\" x=\"279.1\" y=\"-193.78\" font-family=\"Times,serif\" font-size=\"14.00\">For</text>\n</g>\n<!-- 138745111740224&#45;&gt;138745111740128 -->\n<g id=\"edge6\" class=\"edge\">\n<title>138745111740224&#45;&gt;138745111740128</title>\n<path fill=\"none\" stroke=\"black\" d=\"M216.88,-252.24C228.38,-242.31 243.2,-229.5 255.49,-218.88\"/>\n<polygon fill=\"black\" stroke=\"black\" points=\"257.86,-221.46 263.14,-212.27 253.29,-216.16 257.86,-221.46\"/>\n</g>\n<!-- 138745564308256 -->\n<g id=\"node17\" class=\"node\">\n<title>138745564308256</title>\n<ellipse fill=\"none\" stroke=\"black\" cx=\"459.1\" cy=\"-197.48\" rx=\"34.39\" ry=\"18\"/>\n<text text-anchor=\"middle\" x=\"459.1\" y=\"-193.78\" font-family=\"Times,serif\" font-size=\"14.00\">Return</text>\n</g>\n<!-- 138745111740224&#45;&gt;138745564308256 -->\n<g id=\"edge16\" class=\"edge\">\n<title>138745111740224&#45;&gt;138745564308256</title>\n<path fill=\"none\" stroke=\"black\" d=\"M239.45,-257.39C288.7,-244.18 370.4,-222.27 419.06,-209.22\"/>\n<polygon fill=\"black\" stroke=\"black\" points=\"420.17,-212.55 428.92,-206.57 418.35,-205.78 420.17,-212.55\"/>\n</g>\n<!-- 138745111740320 -->\n<g id=\"node5\" class=\"node\">\n<title>138745111740320</title>\n<ellipse fill=\"none\" stroke=\"black\" cx=\"41.1\" cy=\"-116.61\" rx=\"35.21\" ry=\"26.74\"/>\n<text text-anchor=\"middle\" x=\"41.1\" y=\"-120.41\" font-family=\"Times,serif\" font-size=\"14.00\">Name</text>\n<text text-anchor=\"middle\" x=\"41.1\" y=\"-105.41\" font-family=\"Times,serif\" font-size=\"14.00\">x</text>\n</g>\n<!-- 138745111725296&#45;&gt;138745111740320 -->\n<g id=\"edge4\" class=\"edge\">\n<title>138745111725296&#45;&gt;138745111740320</title>\n<path fill=\"none\" stroke=\"black\" d=\"M129.79,-182.38C114.32,-171.08 92.26,-154.98 74.02,-141.65\"/>\n<polygon fill=\"black\" stroke=\"black\" points=\"76.08,-138.82 65.94,-135.75 71.95,-144.48 76.08,-138.82\"/>\n</g>\n<!-- 138745111740176 -->\n<g id=\"node6\" class=\"node\">\n<title>138745111740176</title>\n<ellipse fill=\"none\" stroke=\"black\" cx=\"140.1\" cy=\"-116.61\" rx=\"45.92\" ry=\"26.74\"/>\n<text text-anchor=\"middle\" x=\"140.1\" y=\"-120.41\" font-family=\"Times,serif\" font-size=\"14.00\">Constant</text>\n<text text-anchor=\"middle\" x=\"140.1\" y=\"-105.41\" font-family=\"Times,serif\" font-size=\"14.00\">0</text>\n</g>\n<!-- 138745111725296&#45;&gt;138745111740176 -->\n<g id=\"edge5\" class=\"edge\">\n<title>138745111725296&#45;&gt;138745111740176</title>\n<path fill=\"none\" stroke=\"black\" d=\"M147.14,-179.37C146.29,-171.88 145.25,-162.79 144.24,-153.91\"/>\n<polygon fill=\"black\" stroke=\"black\" points=\"147.68,-153.23 143.07,-143.69 140.73,-154.03 147.68,-153.23\"/>\n</g>\n<!-- 138745564314160 -->\n<g id=\"node8\" class=\"node\">\n<title>138745564314160</title>\n<ellipse fill=\"none\" stroke=\"black\" cx=\"239.1\" cy=\"-116.61\" rx=\"35.21\" ry=\"26.74\"/>\n<text text-anchor=\"middle\" x=\"239.1\" y=\"-120.41\" font-family=\"Times,serif\" font-size=\"14.00\">Name</text>\n<text text-anchor=\"middle\" x=\"239.1\" y=\"-105.41\" font-family=\"Times,serif\" font-size=\"14.00\">i</text>\n</g>\n<!-- 138745111740128&#45;&gt;138745564314160 -->\n<g id=\"edge7\" class=\"edge\">\n<title>138745111740128&#45;&gt;138745564314160</title>\n<path fill=\"none\" stroke=\"black\" d=\"M270.81,-180.14C266.53,-171.71 261.16,-161.11 256.05,-151.04\"/>\n<polygon fill=\"black\" stroke=\"black\" points=\"259.12,-149.36 251.48,-142.02 252.88,-152.52 259.12,-149.36\"/>\n</g>\n<!-- 138745564301824 -->\n<g id=\"node9\" class=\"node\">\n<title>138745564301824</title>\n<ellipse fill=\"none\" stroke=\"black\" cx=\"319.1\" cy=\"-116.61\" rx=\"27\" ry=\"18\"/>\n<text text-anchor=\"middle\" x=\"319.1\" y=\"-112.91\" font-family=\"Times,serif\" font-size=\"14.00\">Call</text>\n</g>\n<!-- 138745111740128&#45;&gt;138745564301824 -->\n<g id=\"edge8\" class=\"edge\">\n<title>138745111740128&#45;&gt;138745564301824</title>\n<path fill=\"none\" stroke=\"black\" d=\"M287.38,-180.14C292.8,-169.46 299.99,-155.29 306.15,-143.14\"/>\n<polygon fill=\"black\" stroke=\"black\" points=\"309.42,-144.43 310.82,-133.93 303.17,-141.27 309.42,-144.43\"/>\n</g>\n<!-- 138745564303360 -->\n<g id=\"node13\" class=\"node\">\n<title>138745564303360</title>\n<ellipse fill=\"none\" stroke=\"black\" cx=\"418.1\" cy=\"-116.61\" rx=\"50.09\" ry=\"18\"/>\n<text text-anchor=\"middle\" x=\"418.1\" y=\"-112.91\" font-family=\"Times,serif\" font-size=\"14.00\">AugAssign</text>\n</g>\n<!-- 138745111740128&#45;&gt;138745564303360 -->\n<g id=\"edge12\" class=\"edge\">\n<title>138745111740128&#45;&gt;138745564303360</title>\n<path fill=\"none\" stroke=\"black\" d=\"M299.01,-185.18C321.04,-172.68 356.93,-152.32 383.56,-137.21\"/>\n<polygon fill=\"black\" stroke=\"black\" points=\"385.58,-140.08 392.55,-132.1 382.13,-134 385.58,-140.08\"/>\n</g>\n<!-- 138745564315552 -->\n<g id=\"node10\" class=\"node\">\n<title>138745564315552</title>\n<ellipse fill=\"none\" stroke=\"black\" cx=\"110.1\" cy=\"-26.87\" rx=\"35.21\" ry=\"26.74\"/>\n<text text-anchor=\"middle\" x=\"110.1\" y=\"-30.67\" font-family=\"Times,serif\" font-size=\"14.00\">Name</text>\n<text text-anchor=\"middle\" x=\"110.1\" y=\"-15.67\" font-family=\"Times,serif\" font-size=\"14.00\">range</text>\n</g>\n<!-- 138745564301824&#45;&gt;138745564315552 -->\n<g id=\"edge9\" class=\"edge\">\n<title>138745564301824&#45;&gt;138745564315552</title>\n<path fill=\"none\" stroke=\"black\" d=\"M302.65,-101.94C296.76,-97.56 289.9,-93 283.1,-89.74 229.44,-63.98 208.88,-77.02 154.1,-53.74 151.25,-52.53 148.37,-51.17 145.5,-49.73\"/>\n<polygon fill=\"black\" stroke=\"black\" points=\"146.98,-46.54 136.51,-44.88 143.66,-52.71 146.98,-46.54\"/>\n</g>\n<!-- 138745564313824 -->\n<g id=\"node11\" class=\"node\">\n<title>138745564313824</title>\n<ellipse fill=\"none\" stroke=\"black\" cx=\"209.1\" cy=\"-26.87\" rx=\"45.92\" ry=\"26.74\"/>\n<text text-anchor=\"middle\" x=\"209.1\" y=\"-30.67\" font-family=\"Times,serif\" font-size=\"14.00\">Constant</text>\n<text text-anchor=\"middle\" x=\"209.1\" y=\"-15.67\" font-family=\"Times,serif\" font-size=\"14.00\">0</text>\n</g>\n<!-- 138745564301824&#45;&gt;138745564313824 -->\n<g id=\"edge10\" class=\"edge\">\n<title>138745564301824&#45;&gt;138745564313824</title>\n<path fill=\"none\" stroke=\"black\" d=\"M302.39,-102.28C286.86,-89.9 263.24,-71.06 243.66,-55.44\"/>\n<polygon fill=\"black\" stroke=\"black\" points=\"245.82,-52.69 235.82,-49.19 241.46,-58.16 245.82,-52.69\"/>\n</g>\n<!-- 138745564301920 -->\n<g id=\"node12\" class=\"node\">\n<title>138745564301920</title>\n<ellipse fill=\"none\" stroke=\"black\" cx=\"319.1\" cy=\"-26.87\" rx=\"45.92\" ry=\"26.74\"/>\n<text text-anchor=\"middle\" x=\"319.1\" y=\"-30.67\" font-family=\"Times,serif\" font-size=\"14.00\">Constant</text>\n<text text-anchor=\"middle\" x=\"319.1\" y=\"-15.67\" font-family=\"Times,serif\" font-size=\"14.00\">5</text>\n</g>\n<!-- 138745564301824&#45;&gt;138745564301920 -->\n<g id=\"edge11\" class=\"edge\">\n<title>138745564301824&#45;&gt;138745564301920</title>\n<path fill=\"none\" stroke=\"black\" d=\"M319.1,-98.28C319.1,-88.46 319.1,-75.82 319.1,-63.95\"/>\n<polygon fill=\"black\" stroke=\"black\" points=\"322.6,-63.82 319.1,-53.82 315.6,-63.82 322.6,-63.82\"/>\n</g>\n<!-- 138745564313632 -->\n<g id=\"node14\" class=\"node\">\n<title>138745564313632</title>\n<ellipse fill=\"none\" stroke=\"black\" cx=\"418.1\" cy=\"-26.87\" rx=\"35.21\" ry=\"26.74\"/>\n<text text-anchor=\"middle\" x=\"418.1\" y=\"-30.67\" font-family=\"Times,serif\" font-size=\"14.00\">Name</text>\n<text text-anchor=\"middle\" x=\"418.1\" y=\"-15.67\" font-family=\"Times,serif\" font-size=\"14.00\">x</text>\n</g>\n<!-- 138745564303360&#45;&gt;138745564313632 -->\n<g id=\"edge13\" class=\"edge\">\n<title>138745564303360&#45;&gt;138745564313632</title>\n<path fill=\"none\" stroke=\"black\" d=\"M418.1,-98.28C418.1,-88.46 418.1,-75.82 418.1,-63.95\"/>\n<polygon fill=\"black\" stroke=\"black\" points=\"421.6,-63.82 418.1,-53.82 414.6,-63.82 421.6,-63.82\"/>\n</g>\n<!-- 138746686162064 -->\n<g id=\"node15\" class=\"node\">\n<title>138746686162064</title>\n<ellipse fill=\"none\" stroke=\"black\" cx=\"498.1\" cy=\"-26.87\" rx=\"27\" ry=\"18\"/>\n<text text-anchor=\"middle\" x=\"498.1\" y=\"-23.17\" font-family=\"Times,serif\" font-size=\"14.00\">Add</text>\n</g>\n<!-- 138745564303360&#45;&gt;138746686162064 -->\n<g id=\"edge14\" class=\"edge\">\n<title>138745564303360&#45;&gt;138746686162064</title>\n<path fill=\"none\" stroke=\"black\" d=\"M433.14,-99.11C445.79,-85.24 463.96,-65.3 477.88,-50.05\"/>\n<polygon fill=\"black\" stroke=\"black\" points=\"480.56,-52.3 484.71,-42.55 475.39,-47.58 480.56,-52.3\"/>\n</g>\n<!-- 138745564300192 -->\n<g id=\"node16\" class=\"node\">\n<title>138745564300192</title>\n<ellipse fill=\"none\" stroke=\"black\" cx=\"578.1\" cy=\"-26.87\" rx=\"35.21\" ry=\"26.74\"/>\n<text text-anchor=\"middle\" x=\"578.1\" y=\"-30.67\" font-family=\"Times,serif\" font-size=\"14.00\">Name</text>\n<text text-anchor=\"middle\" x=\"578.1\" y=\"-15.67\" font-family=\"Times,serif\" font-size=\"14.00\">i</text>\n</g>\n<!-- 138745564303360&#45;&gt;138745564300192 -->\n<g id=\"edge15\" class=\"edge\">\n<title>138745564303360&#45;&gt;138745564300192</title>\n<path fill=\"none\" stroke=\"black\" d=\"M445.46,-101.43C469.07,-89.09 504.03,-70.59 534.1,-53.74 536.63,-52.32 539.24,-50.84 541.86,-49.33\"/>\n<polygon fill=\"black\" stroke=\"black\" points=\"543.84,-52.23 550.74,-44.19 540.33,-46.18 543.84,-52.23\"/>\n</g>\n<!-- 138745564300384 -->\n<g id=\"node18\" class=\"node\">\n<title>138745564300384</title>\n<ellipse fill=\"none\" stroke=\"black\" cx=\"521.1\" cy=\"-116.61\" rx=\"35.21\" ry=\"26.74\"/>\n<text text-anchor=\"middle\" x=\"521.1\" y=\"-120.41\" font-family=\"Times,serif\" font-size=\"14.00\">Name</text>\n<text text-anchor=\"middle\" x=\"521.1\" y=\"-105.41\" font-family=\"Times,serif\" font-size=\"14.00\">x</text>\n</g>\n<!-- 138745564308256&#45;&gt;138745564300384 -->\n<g id=\"edge17\" class=\"edge\">\n<title>138745564308256&#45;&gt;138745564300384</title>\n<path fill=\"none\" stroke=\"black\" d=\"M471.64,-180.52C478.92,-171.27 488.32,-159.3 496.98,-148.29\"/>\n<polygon fill=\"black\" stroke=\"black\" points=\"499.97,-150.15 503.4,-140.12 494.47,-145.82 499.97,-150.15\"/>\n</g>\n</g>\n</svg>\n",
            "text/plain": [
              "<graphviz.graphs.Digraph at 0x7e3038277f70>"
            ]
          },
          "metadata": {}
        }
      ]
    }
  ]
}